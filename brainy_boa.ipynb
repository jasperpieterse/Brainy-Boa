{
 "cells": [
  {
   "cell_type": "markdown",
   "metadata": {},
   "source": [
    "## Imports"
   ]
  },
  {
   "cell_type": "code",
   "execution_count": 1,
   "metadata": {},
   "outputs": [],
   "source": [
    "import os\n",
    "import numpy as np\n",
    "import matplotlib.pyplot as plt\n",
    "import neat\n",
    "\n",
    "\n",
    "from config import *\n",
    "import visualize\n",
    "import NEAT\n",
    "from snake_class import SnakeGame\n",
    "\n",
    "#Set the local directory\n",
    "local_dir = os.getcwd()\n",
    "neat_config_path = os.path.join(local_dir, Paths.NEAT_CONFIG_PATH)\n",
    "config_path = os.path.join(local_dir, Paths.CONFIG_PATH)\n",
    "\n",
    "# Load configuration into a NEAT object.\n",
    "neat_config = neat.Config(neat.DefaultGenome, neat.DefaultReproduction,\n",
    "                        neat.DefaultSpeciesSet, neat.DefaultStagnation,\n",
    "                        neat_config_path)\n",
    "\n",
    "current_game_instance = None"
   ]
  },
  {
   "cell_type": "markdown",
   "metadata": {},
   "source": [
    "### Set up\n",
    "\n",
    "We will first create an instance of the SnakeGame class and run the game for a few steps to see how it works."
   ]
  },
  {
   "cell_type": "code",
   "execution_count": 2,
   "metadata": {},
   "outputs": [
    {
     "name": "stdout",
     "output_type": "stream",
     "text": [
      "{'num_inputs': '12', 'num_outputs': '3'}\n"
     ]
    }
   ],
   "source": [
    "BaselineSnake = SnakeGame(input_frame_of_reference= 'snake', output_frame_of_reference= 'snake')\n",
    "print(BaselineSnake.neat_params['input_output']['DefaultGenome'])\n",
    "update_config('config-neat','DefaultGenome', BaselineSnake.neat_params['input_output']['DefaultGenome'])"
   ]
  },
  {
   "cell_type": "code",
   "execution_count": 3,
   "metadata": {},
   "outputs": [
    {
     "name": "stdout",
     "output_type": "stream",
     "text": [
      "Running NEAT algorithm, run 0\n"
     ]
    },
    {
     "ename": "RuntimeError",
     "evalue": "Expected 12 inputs, got 16",
     "output_type": "error",
     "traceback": [
      "\u001b[0;31m---------------------------------------------------------------------------\u001b[0m",
      "\u001b[0;31mRuntimeError\u001b[0m                              Traceback (most recent call last)",
      "Cell \u001b[0;32mIn[3], line 1\u001b[0m\n\u001b[0;32m----> 1\u001b[0m winners_list, stats_list_baseline \u001b[38;5;241m=\u001b[39m BaselineSnake\u001b[38;5;241m.\u001b[39mrun_NEAT_repeated(neat_config_path)\n\u001b[1;32m      2\u001b[0m best_run_idx \u001b[38;5;241m=\u001b[39m np\u001b[38;5;241m.\u001b[39margmax([winner\u001b[38;5;241m.\u001b[39mfitness \u001b[38;5;28;01mfor\u001b[39;00m winner \u001b[38;5;129;01min\u001b[39;00m winners_list])\n\u001b[1;32m      3\u001b[0m \u001b[38;5;28mprint\u001b[39m(\u001b[38;5;124mf\u001b[39m\u001b[38;5;124m\"\u001b[39m\u001b[38;5;124mBest run: \u001b[39m\u001b[38;5;132;01m{\u001b[39;00mbest_run_idx\u001b[38;5;132;01m}\u001b[39;00m\u001b[38;5;124m with fitness:§ \u001b[39m\u001b[38;5;132;01m{\u001b[39;00mwinners_list[best_run_idx]\u001b[38;5;241m.\u001b[39mfitness\u001b[38;5;132;01m}\u001b[39;00m\u001b[38;5;124m\"\u001b[39m)\n",
      "File \u001b[0;32m~/Physicss/Natural-Computing/Brainy Boa/snake_class.py:810\u001b[0m, in \u001b[0;36mSnakeGame.run_NEAT_repeated\u001b[0;34m(self, config_file)\u001b[0m\n\u001b[1;32m    808\u001b[0m parallel_evaluator \u001b[38;5;241m=\u001b[39m neat\u001b[38;5;241m.\u001b[39mParallelEvaluator(multiprocessing\u001b[38;5;241m.\u001b[39mcpu_count(), \u001b[38;5;28mself\u001b[39m\u001b[38;5;241m.\u001b[39meval_genome)\n\u001b[1;32m    809\u001b[0m \u001b[38;5;66;03m# winner = p.run(parallel_evaluator.evaluate, n = self.N_GENERATIONS)\u001b[39;00m\n\u001b[0;32m--> 810\u001b[0m winner \u001b[38;5;241m=\u001b[39m p\u001b[38;5;241m.\u001b[39mrun(\u001b[38;5;28mself\u001b[39m\u001b[38;5;241m.\u001b[39meval_genomes, n \u001b[38;5;241m=\u001b[39m \u001b[38;5;28mself\u001b[39m\u001b[38;5;241m.\u001b[39mN_GENERATIONS)\n\u001b[1;32m    812\u001b[0m winners\u001b[38;5;241m.\u001b[39mappend(winner)\n\u001b[1;32m    813\u001b[0m stats_list\u001b[38;5;241m.\u001b[39mappend(stats)\n",
      "File \u001b[0;32m~/anaconda3/envs/BrainyBoa/lib/python3.11/site-packages/neat/population.py:89\u001b[0m, in \u001b[0;36mPopulation.run\u001b[0;34m(self, fitness_function, n)\u001b[0m\n\u001b[1;32m     86\u001b[0m \u001b[38;5;28mself\u001b[39m\u001b[38;5;241m.\u001b[39mreporters\u001b[38;5;241m.\u001b[39mstart_generation(\u001b[38;5;28mself\u001b[39m\u001b[38;5;241m.\u001b[39mgeneration)\n\u001b[1;32m     88\u001b[0m \u001b[38;5;66;03m# Evaluate all genomes using the user-provided function.\u001b[39;00m\n\u001b[0;32m---> 89\u001b[0m fitness_function(\u001b[38;5;28mlist\u001b[39m(iteritems(\u001b[38;5;28mself\u001b[39m\u001b[38;5;241m.\u001b[39mpopulation)), \u001b[38;5;28mself\u001b[39m\u001b[38;5;241m.\u001b[39mconfig)\n\u001b[1;32m     91\u001b[0m \u001b[38;5;66;03m# Gather and report statistics.\u001b[39;00m\n\u001b[1;32m     92\u001b[0m best \u001b[38;5;241m=\u001b[39m \u001b[38;5;28;01mNone\u001b[39;00m\n",
      "File \u001b[0;32m~/Physicss/Natural-Computing/Brainy Boa/snake_class.py:738\u001b[0m, in \u001b[0;36mSnakeGame.eval_genomes\u001b[0;34m(self, genomes, config)\u001b[0m\n\u001b[1;32m    736\u001b[0m \u001b[38;5;28;01mfor\u001b[39;00m genome_id, genome \u001b[38;5;129;01min\u001b[39;00m genomes:\n\u001b[1;32m    737\u001b[0m     net \u001b[38;5;241m=\u001b[39m neat\u001b[38;5;241m.\u001b[39mnn\u001b[38;5;241m.\u001b[39mFeedForwardNetwork\u001b[38;5;241m.\u001b[39mcreate(genome, config) \u001b[38;5;66;03m# Create a neural network from the genome.\u001b[39;00m\n\u001b[0;32m--> 738\u001b[0m     fitness \u001b[38;5;241m=\u001b[39m \u001b[38;5;28mself\u001b[39m\u001b[38;5;241m.\u001b[39msimulate_headless(net)  \u001b[38;5;66;03m# Evaluate the genome in a headless simulation.\u001b[39;00m\n\u001b[1;32m    739\u001b[0m     genome\u001b[38;5;241m.\u001b[39mfitness \u001b[38;5;241m=\u001b[39m fitness\n",
      "File \u001b[0;32m~/Physicss/Natural-Computing/Brainy Boa/snake_class.py:157\u001b[0m, in \u001b[0;36mSnakeGame.simulate_headless\u001b[0;34m(self, net)\u001b[0m\n\u001b[1;32m    155\u001b[0m \u001b[38;5;28;01mwhile\u001b[39;00m \u001b[38;5;129;01mnot\u001b[39;00m \u001b[38;5;28mself\u001b[39m\u001b[38;5;241m.\u001b[39mdead \u001b[38;5;129;01mand\u001b[39;00m (t \u001b[38;5;241m-\u001b[39m \u001b[38;5;28mself\u001b[39m\u001b[38;5;241m.\u001b[39mlast_ate_apple \u001b[38;5;241m<\u001b[39m\u001b[38;5;241m=\u001b[39m \u001b[38;5;28mself\u001b[39m\u001b[38;5;241m.\u001b[39mMIN_TIME_TO_EAT_APPLE):\n\u001b[1;32m    156\u001b[0m     sensory_vector \u001b[38;5;241m=\u001b[39m \u001b[38;5;28mself\u001b[39m\u001b[38;5;241m.\u001b[39msensory_function()\n\u001b[0;32m--> 157\u001b[0m     activations \u001b[38;5;241m=\u001b[39m net\u001b[38;5;241m.\u001b[39mactivate(sensory_vector)\n\u001b[1;32m    158\u001b[0m     action \u001b[38;5;241m=\u001b[39m np\u001b[38;5;241m.\u001b[39margmax(activations)\n\u001b[1;32m    159\u001b[0m     \u001b[38;5;28mself\u001b[39m\u001b[38;5;241m.\u001b[39mchange_direction(action)\n",
      "File \u001b[0;32m~/anaconda3/envs/BrainyBoa/lib/python3.11/site-packages/neat/nn/feed_forward.py:14\u001b[0m, in \u001b[0;36mFeedForwardNetwork.activate\u001b[0;34m(self, inputs)\u001b[0m\n\u001b[1;32m     12\u001b[0m \u001b[38;5;28;01mdef\u001b[39;00m \u001b[38;5;21mactivate\u001b[39m(\u001b[38;5;28mself\u001b[39m, inputs):\n\u001b[1;32m     13\u001b[0m     \u001b[38;5;28;01mif\u001b[39;00m \u001b[38;5;28mlen\u001b[39m(\u001b[38;5;28mself\u001b[39m\u001b[38;5;241m.\u001b[39minput_nodes) \u001b[38;5;241m!=\u001b[39m \u001b[38;5;28mlen\u001b[39m(inputs):\n\u001b[0;32m---> 14\u001b[0m         \u001b[38;5;28;01mraise\u001b[39;00m \u001b[38;5;167;01mRuntimeError\u001b[39;00m(\u001b[38;5;124m\"\u001b[39m\u001b[38;5;124mExpected \u001b[39m\u001b[38;5;132;01m{0:n}\u001b[39;00m\u001b[38;5;124m inputs, got \u001b[39m\u001b[38;5;132;01m{1:n}\u001b[39;00m\u001b[38;5;124m\"\u001b[39m\u001b[38;5;241m.\u001b[39mformat(\u001b[38;5;28mlen\u001b[39m(\u001b[38;5;28mself\u001b[39m\u001b[38;5;241m.\u001b[39minput_nodes), \u001b[38;5;28mlen\u001b[39m(inputs)))\n\u001b[1;32m     16\u001b[0m     \u001b[38;5;28;01mfor\u001b[39;00m k, v \u001b[38;5;129;01min\u001b[39;00m \u001b[38;5;28mzip\u001b[39m(\u001b[38;5;28mself\u001b[39m\u001b[38;5;241m.\u001b[39minput_nodes, inputs):\n\u001b[1;32m     17\u001b[0m         \u001b[38;5;28mself\u001b[39m\u001b[38;5;241m.\u001b[39mvalues[k] \u001b[38;5;241m=\u001b[39m v\n",
      "\u001b[0;31mRuntimeError\u001b[0m: Expected 12 inputs, got 16"
     ]
    }
   ],
   "source": [
    "winners_list, stats_list_baseline = BaselineSnake.run_NEAT_repeated(neat_config_path)\n",
    "best_run_idx = np.argmax([winner.fitness for winner in winners_list])\n",
    "print(f\"Best run: {best_run_idx} with fitness:§ {winners_list[best_run_idx].fitness}\")"
   ]
  },
  {
   "cell_type": "code",
   "execution_count": 5,
   "metadata": {},
   "outputs": [],
   "source": [
    "BaselineSnake.test_winner(winners_list[-1], neat_config_path)"
   ]
  },
  {
   "cell_type": "code",
   "execution_count": null,
   "metadata": {},
   "outputs": [],
   "source": [
    "winners_list, stats_list = NEAT.run_NEAT_repeated(neat_config_path)\n",
    "\n",
    "best_run_idx = np.argmax([winner.fitness for winner in winners_list])\n",
    "print(f\"Best run: {best_run_idx} with fitness: {winners_list[best_run_idx].fitness}\")"
   ]
  },
  {
   "cell_type": "code",
   "execution_count": null,
   "metadata": {},
   "outputs": [],
   "source": [
    "average_fitness_baseline = np.mean([np.array(stats.get_fitness_mean())[-1] for stats in stats_list_baseline])\n",
    "std_fitness_baseline = np.std([np.array(stats.get_fitness_mean())[-1] for stats in stats_list_baseline])\n",
    "\n",
    "# Calculate average fitness and standard deviation over all runs\n",
    "average_fitness= np.mean([np.array(stats.get_fitness_mean())[-1] for stats in stats_list])\n",
    "std_fitness = np.std([np.array(stats.get_fitness_mean())[-1] for stats in stats_list])\n",
    "\n",
    "average_fitness= 10.3\n",
    "\n",
    "# Data to plot\n",
    "fitness_means = [average_fitness_baseline, average_fitness]\n",
    "fitness_stds = [std_fitness_baseline, std_fitness]\n",
    "labels = ['NSWE', 'Snake FoR']\n",
    "\n",
    "# Creating the bar plot\n",
    "fig, ax = plt.subplots()\n",
    "ax.bar(labels, fitness_means, yerr=fitness_stds, capsize=5, color=['#c0392b', '#229954'])\n",
    "ax.set_ylabel('Average Fitness')\n",
    "ax.set_title(f'Average Fitness over {Config.N_RUNS} Runs after {Config.N_GENERATIONS} Generations')\n",
    "\n",
    "# Show the plot\n",
    "plt.savefig(local_dir + '/' + Paths.RESULTS_PATH + '/fitness_comparison.png')\n",
    "plt.show()"
   ]
  },
  {
   "cell_type": "code",
   "execution_count": null,
   "metadata": {},
   "outputs": [],
   "source": [
    "#Save results\n",
    "np.save(local_dir + '/' + Paths.RESULTS_PATH + '/winners_list', winners_list)\n",
    "np.save(local_dir + '/' + Paths.RESULTS_PATH + '/stats_list', stats_list)"
   ]
  },
  {
   "cell_type": "code",
   "execution_count": null,
   "metadata": {},
   "outputs": [],
   "source": [
    "# Load the data\n",
    "# winners_list = np.load(local_dir + '/experiment_1/winners_list.npy', allow_pickle=True)\n",
    "# stats_list = np.load(local_dir + '/experiment_1/stats_list.npy', allow_pickle=True)"
   ]
  },
  {
   "cell_type": "markdown",
   "metadata": {},
   "source": [
    "## Evaluate Results"
   ]
  },
  {
   "cell_type": "code",
   "execution_count": null,
   "metadata": {},
   "outputs": [],
   "source": [
    "# Calculate average fitness and standard deviation for winners\n",
    "average_fitness_winners = np.mean([winner.fitness for winner in winners_list])\n",
    "std_fitness_winners = np.std([winner.fitness for winner in winners_list])\n",
    "\n",
    "# Calculate average fitness and standard deviation over all runs\n",
    "average_fitness = np.mean([np.array(stats.get_fitness_mean())[-1] for stats in stats_list])\n",
    "std_fitness = np.std([np.array(stats.get_fitness_mean())[-1] for stats in stats_list])\n",
    "\n",
    "# Data to plot\n",
    "fitness_means = [average_fitness_winners, average_fitness]\n",
    "fitness_stds = [std_fitness_winners, std_fitness]\n",
    "labels = ['Best Genomes', 'All Genomes']\n",
    "\n",
    "# Creating the bar plot\n",
    "fig, ax = plt.subplots()\n",
    "ax.bar(labels, fitness_means, yerr=fitness_stds, capsize=5, color=['#c0392b', '#229954'])\n",
    "ax.set_ylabel('Average Fitness')\n",
    "ax.set_title(f'Average Fitness over {Config.N_RUNS} Runs')\n",
    "\n",
    "# Show the plot\n",
    "plt.savefig(local_dir + '/' + Paths.RESULTS_PATH + '/fitness_comparison.png')\n",
    "plt.show()"
   ]
  },
  {
   "cell_type": "markdown",
   "metadata": {},
   "source": [
    "### Plot the best genome"
   ]
  },
  {
   "cell_type": "code",
   "execution_count": null,
   "metadata": {},
   "outputs": [],
   "source": [
    "#Get statistics from the best run\n",
    "winner_stats = stats_list[best_run_idx]\n",
    "generations = range(1, Config.N_GENERATIONS + 1)\n",
    "best_fitnesses = [g.fitness for g in winner_stats.most_fit_genomes]\n",
    "avg_fitnesses = np.array(winner_stats.get_fitness_mean())\n",
    "stdev_fitnesses = np.array(winner_stats.get_fitness_stdev())\n",
    "\n",
    "\n",
    "plt.plot(generations, best_fitnesses, color = '#c0392b', label=\"Best Genome\")\n",
    "plt.plot(generations, avg_fitnesses, color = '#229954', label=\"Average\")\n",
    "plt.plot(generations, avg_fitnesses + stdev_fitnesses, color = '#abebc6', label=\"+1 $\\sigma_{std}$\")\n",
    "plt.plot(generations, avg_fitnesses - stdev_fitnesses, color = '#abebc6', label=\"-1 $\\sigma_{std}$\")\n",
    "\n",
    "\n",
    "# plt.title(f\"Best Run ({best_run_idx + 1}) Results\")\n",
    "plt.title(f\"Fitness over Generations of Best Run ({best_run_idx + 1})\") \n",
    "plt.xlabel(\"Generations\")\n",
    "plt.ylabel(\"Fitness\")\n",
    "plt.grid()\n",
    "plt.legend(loc=\"best\")\n",
    "\n",
    "\n",
    "plt.show()"
   ]
  },
  {
   "cell_type": "markdown",
   "metadata": {},
   "source": [
    "### Compare the best snake at different generations"
   ]
  },
  {
   "cell_type": "code",
   "execution_count": null,
   "metadata": {},
   "outputs": [],
   "source": [
    "generation_nr_1 = 310\n",
    "generation_nr_2 = 410\n",
    "\n",
    "# Get the best genome at every generation\n",
    "best_genomes = [g for g in winner_stats.most_fit_genomes]\n",
    "\n",
    "genome_1 = best_genomes[generation_nr_1]\n",
    "genome_2 = best_genomes[generation_nr_2]"
   ]
  },
  {
   "cell_type": "code",
   "execution_count": null,
   "metadata": {},
   "outputs": [],
   "source": [
    "best_genomes = [g for g in winner_stats.most_fit_genomes]\n",
    "\n",
    "visualize.test_winner(genome_1, config_path) "
   ]
  },
  {
   "cell_type": "code",
   "execution_count": null,
   "metadata": {},
   "outputs": [],
   "source": [
    "visualize.test_winner(genome_2, config_path) "
   ]
  },
  {
   "cell_type": "markdown",
   "metadata": {},
   "source": [
    "### Plot the best solution of each run separately"
   ]
  },
  {
   "cell_type": "code",
   "execution_count": null,
   "metadata": {},
   "outputs": [],
   "source": [
    "#Get statistics from all runs\n",
    "stats = stats_list[best_run_idx]\n",
    "generations = range(1, Config.N_GENERATIONS + 1)\n",
    "\n",
    "# Get the best genome at every generation\n",
    "best_genomes = [[g for g in stats.most_fit_genomes] for stats in stats_list]\n",
    "\n",
    "# Plot the best genome of each run\n",
    "for i, genome in enumerate(best_genomes):\n",
    "    best_fitnesses = [g.fitness for g in genome]\n",
    "    plt.plot(generations, best_fitnesses, label=f\"Run {i + 1}\")\n",
    "\n",
    "plt.title(f\"Best Genome of each Run\")\n",
    "plt.xlabel(\"Generations\")\n",
    "plt.ylabel(\"Fitness\")\n",
    "plt.grid()\n",
    "plt.legend(loc=\"best\")\n",
    "\n",
    "plt.savefig(local_dir + '/' + Paths.RESULTS_PATH + '/best_genomes_each_run.png')\n",
    "plt.show()"
   ]
  },
  {
   "cell_type": "markdown",
   "metadata": {},
   "source": [
    "### Visualize speciation of best run"
   ]
  },
  {
   "cell_type": "code",
   "execution_count": null,
   "metadata": {},
   "outputs": [],
   "source": [
    "species_sizes = np.array(winner_stats.get_species_sizes())\n",
    "num_generations = len(species_sizes)\n",
    "curves = np.array(species_sizes).T\n",
    "\n",
    "fig, ax = plt.subplots()\n",
    "ax.stackplot(range(num_generations), *curves)\n",
    "\n",
    "plt.title(\"Speciation\")\n",
    "plt.ylabel(\"Size per Species\")\n",
    "plt.xlabel(\"Generations\")\n",
    "\n",
    "plt.show()\n"
   ]
  },
  {
   "cell_type": "code",
   "execution_count": null,
   "metadata": {},
   "outputs": [],
   "source": [
    "total_species_fitness = np.array(winner_stats.get_species_fitness())\n",
    "\n",
    "print(total_species_fitness[:, 0])\n",
    "print(species_sizes[:, 0])\n",
    "\n",
    "print(total_species_fitness)"
   ]
  },
  {
   "cell_type": "code",
   "execution_count": null,
   "metadata": {},
   "outputs": [],
   "source": [
    "species_fitness = np.array(winner_stats.get_species_fitness())\n",
    "\n",
    "num_generations = len(species_sizes)\n",
    "\n",
    "\n",
    "for i in range (len(species_fitness[0])):\n",
    "    # Extract the column corresponding to the species\n",
    "    species_data = species_fitness[:, i]\n",
    "    \n",
    "    # Filter out empty strings and convert to float\n",
    "    valid_fitness = np.array([float(x) for x in species_data if x != ''])\n",
    "    \n",
    "    # Get the valid indices to match the generations\n",
    "    valid_indices = np.where(species_data != '')[0]\n",
    "\n",
    "    \n",
    "    # Plot only the valid data points\n",
    "    plt.plot(valid_indices, valid_fitness, label=f\"Species {i}\")\n",
    "\n",
    "plt.title(\"Speciation\")\n",
    "plt.ylabel(\"Species Fitness\")\n",
    "plt.xlabel(\"Generations\")\n",
    "# plt.yscale('log')\n",
    "plt.legend()\n",
    "\n",
    "plt.show()\n"
   ]
  },
  {
   "cell_type": "markdown",
   "metadata": {},
   "source": [
    "### Plot the n best solutions over all runs [NOT IMPLEMENTED]"
   ]
  },
  {
   "cell_type": "code",
   "execution_count": null,
   "metadata": {},
   "outputs": [],
   "source": [
    "stats = stats_list[best_run_idx]\n",
    "n_best_genomes =  stats.best_unique_genomes(5)\n",
    "\n",
    "n_best_genomes_fitness = [g.fitness for g in n_best_genomes]\n",
    "n_best_genomes_id = np.argpartition(n_best_genomes_fitness, -3)[-3:]\n",
    "print(n_best_genomes_fitness)\n",
    "print(n_best_genomes_id)"
   ]
  },
  {
   "cell_type": "code",
   "execution_count": null,
   "metadata": {},
   "outputs": [],
   "source": [
    "n = 5\n",
    "\n",
    "# Get the n best genomes from all runs\n",
    "all_best_genomes = []\n",
    "for stats in stats_list:\n",
    "    all_best_genomes += stats.best_unique_genomes(n)\n",
    "\n",
    "all_best_fitness = [g.fitness for g in all_best_genomes]\n",
    "n_best_genomes_id = np.argpartition(all_best_fitness, -n)[-n:]\n",
    "\n",
    "\n",
    "plt.figure()\n",
    "generations = range(1, Config.N_RUNS + 1)\n",
    "for id in n_best_genomes_id:\n",
    "    genome = all_best_genomes[id]\n",
    "    best_fitnesses = [g.fitness for g in genome]\n",
    "    plt.plot(generations, best_fitnesses)\n",
    "\n",
    "plt.plot(generations, best_fitnesses, 'r-', label=\"best\")\n",
    "\n",
    "plt.title(f\"Best Run ({best_run_idx + 1}) Results\")\n",
    "plt.xlabel(\"Generations\")\n",
    "plt.ylabel(\"Fitness\")\n",
    "plt.grid()\n",
    "plt.legend(loc=\"best\")\n",
    "\n",
    "plt.show()"
   ]
  },
  {
   "cell_type": "markdown",
   "metadata": {},
   "source": [
    "### Checkpoint restoration [DOES NOT WORK PROPERLY FOR NOW]\n",
    "\n",
    "If I restore a checkpoint, and then check the fitness of that population, it does not match up with the graphs above. I am not sure why. I will try to figure it out later, if we will actually need to use this."
   ]
  },
  {
   "cell_type": "code",
   "execution_count": null,
   "metadata": {},
   "outputs": [],
   "source": [
    "generation_nr_1 = 18\n",
    "population_1 = neat.Checkpointer.restore_checkpoint(f'results/checkpoints/run{best_run_idx}/population-{generation_nr_1}')\n",
    "\n",
    "genome_tuples = list(iter(population_1.population.items()))   # List of (genome_id, genome) tuples.\n",
    "\n",
    "# Assign a fitness value to each genome\n",
    "NEAT.eval_genomes(genome_tuples, config)\n",
    "\n",
    "# Get the best genome of the generation\n",
    "genomes = population_1.population.values() # List of the genomes after evaluation.\n",
    "best_genome = None\n",
    "for i, g in enumerate(iter(genomes)):\n",
    "    if best_genome is None or g.fitness > best_genome.fitness:\n",
    "        best_genome = g\n",
    "\n",
    "print(f\"Best genome has fitness: {best_genome.fitness}\")"
   ]
  }
 ],
 "metadata": {
  "kernelspec": {
   "display_name": "Python 3",
   "language": "python",
   "name": "python3"
  },
  "language_info": {
   "codemirror_mode": {
    "name": "ipython",
    "version": 3
   },
   "file_extension": ".py",
   "mimetype": "text/x-python",
   "name": "python",
   "nbconvert_exporter": "python",
   "pygments_lexer": "ipython3",
   "version": "3.11.9"
  }
 },
 "nbformat": 4,
 "nbformat_minor": 2
}

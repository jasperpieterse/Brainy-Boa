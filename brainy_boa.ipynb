{
 "cells": [
  {
   "cell_type": "markdown",
   "metadata": {},
   "source": [
    "## Imports"
   ]
  },
  {
   "cell_type": "code",
   "execution_count": 1,
   "metadata": {},
   "outputs": [
    {
     "name": "stdout",
     "output_type": "stream",
     "text": [
      "pygame 2.5.2 (SDL 2.28.3, Python 3.11.9)\n",
      "Hello from the pygame community. https://www.pygame.org/contribute.html\n"
     ]
    }
   ],
   "source": [
    "import os\n",
    "import numpy as np\n",
    "import matplotlib.pyplot as plt\n",
    "import neat\n",
    "\n",
    "from snake_game import *\n",
    "\n",
    "#Set the local directory\n",
    "local_dir = os.getcwd()\n",
    "neat_config_path = os.path.join(local_dir, Paths.NEAT_CONFIG_PATH)\n",
    "config_path = os.path.join(local_dir, Paths.CONFIG_PATH)\n",
    "\n",
    "# Load neat configuration into a NEAT object.\n",
    "neat_config = neat.Config(neat.DefaultGenome, neat.DefaultReproduction,\n",
    "                        neat.DefaultSpeciesSet, neat.DefaultStagnation,\n",
    "                        neat_config_path)"
   ]
  },
  {
   "cell_type": "markdown",
   "metadata": {},
   "source": [
    "### Set up\n",
    "\n",
    "We will first create an instance of the SnakeGame class and run the game for a few steps to see how it works. For now, we will use a simple game without any obstacles. The snake has information on it's distance to the wall, distance to it's nearest body segment and it's distance to the apple in all cardinal directions (up, down, left, right). The snake can also move in any of these directions."
   ]
  },
  {
   "cell_type": "code",
   "execution_count": 2,
   "metadata": {},
   "outputs": [
    {
     "name": "stdout",
     "output_type": "stream",
     "text": [
      "{'num_inputs': '12', 'num_outputs': '4'}\n"
     ]
    }
   ],
   "source": [
    "BaselineSnake = SnakeGame(input_features= ['wall', 'relative_body','relative_apple'],\n",
    "                          input_frame_of_reference= 'NSEW', \n",
    "                          output_frame_of_reference= 'NSEW', \n",
    "                          use_obstacles= False,\n",
    "                          n_runs = 5,\n",
    "                          n_generations = 30,\n",
    "                          time_interval= 200,\n",
    "                          checkpoint_interval= 10)\n",
    "\n",
    "#Update the NEAT configuration file with the input and output features of the BaselineSnake [This needs to be done every time the input features are changed]\n",
    "print(BaselineSnake.neat_params['input_output']['DefaultGenome'])\n",
    "update_config('config-neat','DefaultGenome', BaselineSnake.neat_params['input_output']['DefaultGenome'])"
   ]
  },
  {
   "cell_type": "markdown",
   "metadata": {},
   "source": [
    "We will run the NEAT algorithm 5 times for 30 generations each. From these, we obtain two lists: A list containing the best genome from each run and a list containing the statistics of each run [which we can use for plots later on]."
   ]
  },
  {
   "cell_type": "code",
   "execution_count": 3,
   "metadata": {},
   "outputs": [
    {
     "name": "stdout",
     "output_type": "stream",
     "text": [
      "Running NEAT algorithm, run 0\n",
      "pygame 2.5.2 (SDL 2.28.3, Python 3.11.9)\n",
      "Hello from the pygame community. https://www.pygame.org/contribute.html\n",
      "pygame 2.5.2 (SDL 2.28.3, Python 3.11.9)\n",
      "Hello from the pygame community. https://www.pygame.org/contribute.html\n",
      "pygame 2.5.2 (SDL 2.28.3, Python 3.11.9)\n",
      "Hello from the pygame community. https://www.pygame.org/contribute.html\n",
      "pygame 2.5.2 (SDL 2.28.3, Python 3.11.9)\n",
      "Hello from the pygame community. https://www.pygame.org/contribute.html\n",
      "pygame 2.5.2 (SDL 2.28.3, Python 3.11.9)\n",
      "Hello from the pygame community. https://www.pygame.org/contribute.html\n",
      "pygame 2.5.2 (SDL 2.28.3, Python 3.11.9)\n",
      "Hello from the pygame community. https://www.pygame.org/contribute.html\n",
      "pygame 2.5.2 (SDL 2.28.3, Python 3.11.9)\n",
      "Hello from the pygame community. https://www.pygame.org/contribute.html\n",
      "pygame 2.5.2 (SDL 2.28.3, Python 3.11.9)\n",
      "Hello from the pygame community. https://www.pygame.org/contribute.html\n",
      "Saving checkpoint to results//checkpoints/run0/population-0\n",
      "Saving checkpoint to results//checkpoints/run0/population-1\n",
      "Saving checkpoint to results//checkpoints/run0/population-2\n",
      "Saving checkpoint to results//checkpoints/run0/population-3\n",
      "Saving checkpoint to results//checkpoints/run0/population-4\n",
      "Saving checkpoint to results//checkpoints/run0/population-5\n",
      "Saving checkpoint to results//checkpoints/run0/population-6\n",
      "Saving checkpoint to results//checkpoints/run0/population-7\n",
      "Saving checkpoint to results//checkpoints/run0/population-8\n",
      "Saving checkpoint to results//checkpoints/run0/population-9\n",
      "Saving checkpoint to results//checkpoints/run0/population-10\n",
      "Saving checkpoint to results//checkpoints/run0/population-11\n",
      "Saving checkpoint to results//checkpoints/run0/population-12\n",
      "Saving checkpoint to results//checkpoints/run0/population-13\n",
      "Saving checkpoint to results//checkpoints/run0/population-14\n",
      "Saving checkpoint to results//checkpoints/run0/population-15\n",
      "Saving checkpoint to results//checkpoints/run0/population-16\n",
      "Saving checkpoint to results//checkpoints/run0/population-17\n",
      "Saving checkpoint to results//checkpoints/run0/population-18\n",
      "Saving checkpoint to results//checkpoints/run0/population-19\n",
      "Saving checkpoint to results//checkpoints/run0/population-20\n",
      "Saving checkpoint to results//checkpoints/run0/population-21\n",
      "Saving checkpoint to results//checkpoints/run0/population-22\n",
      "Saving checkpoint to results//checkpoints/run0/population-23\n",
      "Saving checkpoint to results//checkpoints/run0/population-24\n",
      "Saving checkpoint to results//checkpoints/run0/population-25\n",
      "Saving checkpoint to results//checkpoints/run0/population-26\n",
      "Saving checkpoint to results//checkpoints/run0/population-27\n",
      "Saving checkpoint to results//checkpoints/run0/population-28\n",
      "Saving checkpoint to results//checkpoints/run0/population-29\n",
      "Run 0 completed, best fitness: 14.0\n",
      "Running NEAT algorithm, run 1\n",
      "pygame 2.5.2 (SDL 2.28.3, Python 3.11.9)\n",
      "Hello from the pygame community. https://www.pygame.org/contribute.html\n",
      "pygame 2.5.2 (SDL 2.28.3, Python 3.11.9)\n",
      "Hello from the pygame community. https://www.pygame.org/contribute.html\n",
      "pygame 2.5.2 (SDL 2.28.3, Python 3.11.9)\n",
      "Hello from the pygame community. https://www.pygame.org/contribute.html\n",
      "pygame 2.5.2 (SDL 2.28.3, Python 3.11.9)\n",
      "Hello from the pygame community. https://www.pygame.org/contribute.html\n",
      "pygame 2.5.2 (SDL 2.28.3, Python 3.11.9)\n",
      "Hello from the pygame community. https://www.pygame.org/contribute.html\n",
      "pygame 2.5.2 (SDL 2.28.3, Python 3.11.9)\n",
      "Hello from the pygame community. https://www.pygame.org/contribute.html\n",
      "pygame 2.5.2 (SDL 2.28.3, Python 3.11.9)\n",
      "Hello from the pygame community. https://www.pygame.org/contribute.html\n",
      "pygame 2.5.2 (SDL 2.28.3, Python 3.11.9)\n",
      "Hello from the pygame community. https://www.pygame.org/contribute.html\n",
      "Saving checkpoint to results//checkpoints/run1/population-0\n",
      "Saving checkpoint to results//checkpoints/run1/population-1\n",
      "Saving checkpoint to results//checkpoints/run1/population-2\n",
      "Saving checkpoint to results//checkpoints/run1/population-3\n",
      "Saving checkpoint to results//checkpoints/run1/population-4\n",
      "Saving checkpoint to results//checkpoints/run1/population-5\n",
      "Saving checkpoint to results//checkpoints/run1/population-6\n",
      "Saving checkpoint to results//checkpoints/run1/population-7\n",
      "Saving checkpoint to results//checkpoints/run1/population-8\n",
      "Saving checkpoint to results//checkpoints/run1/population-9\n",
      "Saving checkpoint to results//checkpoints/run1/population-10\n",
      "Saving checkpoint to results//checkpoints/run1/population-11\n",
      "Saving checkpoint to results//checkpoints/run1/population-12\n",
      "Saving checkpoint to results//checkpoints/run1/population-13\n",
      "Saving checkpoint to results//checkpoints/run1/population-14\n",
      "Saving checkpoint to results//checkpoints/run1/population-15\n",
      "Saving checkpoint to results//checkpoints/run1/population-16\n",
      "Saving checkpoint to results//checkpoints/run1/population-17\n",
      "Saving checkpoint to results//checkpoints/run1/population-18\n",
      "Saving checkpoint to results//checkpoints/run1/population-19\n",
      "Saving checkpoint to results//checkpoints/run1/population-20\n",
      "Saving checkpoint to results//checkpoints/run1/population-21\n",
      "Saving checkpoint to results//checkpoints/run1/population-22\n",
      "Saving checkpoint to results//checkpoints/run1/population-23\n",
      "Saving checkpoint to results//checkpoints/run1/population-24\n",
      "Saving checkpoint to results//checkpoints/run1/population-25\n",
      "Saving checkpoint to results//checkpoints/run1/population-26\n",
      "Saving checkpoint to results//checkpoints/run1/population-27\n",
      "Saving checkpoint to results//checkpoints/run1/population-28\n",
      "Saving checkpoint to results//checkpoints/run1/population-29\n",
      "Run 1 completed, best fitness: 3.7\n",
      "Running NEAT algorithm, run 2\n",
      "pygame 2.5.2 (SDL 2.28.3, Python 3.11.9)\n",
      "Hello from the pygame community. https://www.pygame.org/contribute.html\n",
      "pygame 2.5.2 (SDL 2.28.3, Python 3.11.9)\n",
      "Hello from the pygame community. https://www.pygame.org/contribute.html\n",
      "pygame 2.5.2 (SDL 2.28.3, Python 3.11.9)\n",
      "Hello from the pygame community. https://www.pygame.org/contribute.html\n",
      "pygame 2.5.2 (SDL 2.28.3, Python 3.11.9)\n",
      "Hello from the pygame community. https://www.pygame.org/contribute.html\n",
      "pygame 2.5.2 (SDL 2.28.3, Python 3.11.9)\n",
      "Hello from the pygame community. https://www.pygame.org/contribute.html\n",
      "pygame 2.5.2 (SDL 2.28.3, Python 3.11.9)\n",
      "Hello from the pygame community. https://www.pygame.org/contribute.html\n",
      "pygame 2.5.2 (SDL 2.28.3, Python 3.11.9)\n",
      "Hello from the pygame community. https://www.pygame.org/contribute.html\n",
      "pygame 2.5.2 (SDL 2.28.3, Python 3.11.9)\n",
      "Hello from the pygame community. https://www.pygame.org/contribute.html\n",
      "Saving checkpoint to results//checkpoints/run2/population-0\n",
      "Saving checkpoint to results//checkpoints/run2/population-1\n",
      "Saving checkpoint to results//checkpoints/run2/population-2\n",
      "Saving checkpoint to results//checkpoints/run2/population-3\n",
      "Saving checkpoint to results//checkpoints/run2/population-4\n",
      "Saving checkpoint to results//checkpoints/run2/population-5\n",
      "Saving checkpoint to results//checkpoints/run2/population-6\n",
      "Saving checkpoint to results//checkpoints/run2/population-7\n",
      "Saving checkpoint to results//checkpoints/run2/population-8\n",
      "Saving checkpoint to results//checkpoints/run2/population-9\n",
      "Saving checkpoint to results//checkpoints/run2/population-10\n",
      "Saving checkpoint to results//checkpoints/run2/population-11\n",
      "Saving checkpoint to results//checkpoints/run2/population-12\n",
      "Saving checkpoint to results//checkpoints/run2/population-13\n",
      "Saving checkpoint to results//checkpoints/run2/population-14\n",
      "Saving checkpoint to results//checkpoints/run2/population-15\n",
      "Saving checkpoint to results//checkpoints/run2/population-16\n",
      "Saving checkpoint to results//checkpoints/run2/population-17\n",
      "Saving checkpoint to results//checkpoints/run2/population-18\n",
      "Saving checkpoint to results//checkpoints/run2/population-19\n",
      "Saving checkpoint to results//checkpoints/run2/population-20\n",
      "Saving checkpoint to results//checkpoints/run2/population-21\n",
      "Saving checkpoint to results//checkpoints/run2/population-22\n",
      "Saving checkpoint to results//checkpoints/run2/population-23\n",
      "Saving checkpoint to results//checkpoints/run2/population-24\n",
      "Saving checkpoint to results//checkpoints/run2/population-25\n",
      "Saving checkpoint to results//checkpoints/run2/population-26\n",
      "Saving checkpoint to results//checkpoints/run2/population-27\n",
      "Saving checkpoint to results//checkpoints/run2/population-28\n",
      "Saving checkpoint to results//checkpoints/run2/population-29\n",
      "Run 2 completed, best fitness: 5.4\n",
      "Running NEAT algorithm, run 3\n",
      "pygame 2.5.2 (SDL 2.28.3, Python 3.11.9)\n",
      "Hello from the pygame community. https://www.pygame.org/contribute.html\n",
      "pygame 2.5.2 (SDL 2.28.3, Python 3.11.9)\n",
      "Hello from the pygame community. https://www.pygame.org/contribute.html\n",
      "pygame 2.5.2 (SDL 2.28.3, Python 3.11.9)\n",
      "Hello from the pygame community. https://www.pygame.org/contribute.html\n",
      "pygame 2.5.2 (SDL 2.28.3, Python 3.11.9)\n",
      "Hello from the pygame community. https://www.pygame.org/contribute.html\n",
      "pygame 2.5.2 (SDL 2.28.3, Python 3.11.9)\n",
      "Hello from the pygame community. https://www.pygame.org/contribute.html\n",
      "pygame 2.5.2 (SDL 2.28.3, Python 3.11.9)\n",
      "Hello from the pygame community. https://www.pygame.org/contribute.html\n",
      "pygame 2.5.2 (SDL 2.28.3, Python 3.11.9)\n",
      "Hello from the pygame community. https://www.pygame.org/contribute.html\n",
      "pygame 2.5.2 (SDL 2.28.3, Python 3.11.9)\n",
      "Hello from the pygame community. https://www.pygame.org/contribute.html\n",
      "Saving checkpoint to results//checkpoints/run3/population-0\n",
      "Saving checkpoint to results//checkpoints/run3/population-1\n",
      "Saving checkpoint to results//checkpoints/run3/population-2\n",
      "Saving checkpoint to results//checkpoints/run3/population-3\n",
      "Saving checkpoint to results//checkpoints/run3/population-4\n",
      "Saving checkpoint to results//checkpoints/run3/population-5\n",
      "Saving checkpoint to results//checkpoints/run3/population-6\n",
      "Saving checkpoint to results//checkpoints/run3/population-7\n",
      "Saving checkpoint to results//checkpoints/run3/population-8\n",
      "Saving checkpoint to results//checkpoints/run3/population-9\n",
      "Saving checkpoint to results//checkpoints/run3/population-10\n",
      "Saving checkpoint to results//checkpoints/run3/population-11\n",
      "Saving checkpoint to results//checkpoints/run3/population-12\n",
      "Saving checkpoint to results//checkpoints/run3/population-13\n",
      "Saving checkpoint to results//checkpoints/run3/population-14\n",
      "Saving checkpoint to results//checkpoints/run3/population-15\n",
      "Saving checkpoint to results//checkpoints/run3/population-16\n",
      "Saving checkpoint to results//checkpoints/run3/population-17\n",
      "Saving checkpoint to results//checkpoints/run3/population-18\n",
      "Saving checkpoint to results//checkpoints/run3/population-19\n",
      "Saving checkpoint to results//checkpoints/run3/population-20\n",
      "Saving checkpoint to results//checkpoints/run3/population-21\n",
      "Saving checkpoint to results//checkpoints/run3/population-22\n",
      "Saving checkpoint to results//checkpoints/run3/population-23\n",
      "Saving checkpoint to results//checkpoints/run3/population-24\n",
      "Saving checkpoint to results//checkpoints/run3/population-25\n",
      "Saving checkpoint to results//checkpoints/run3/population-26\n",
      "Saving checkpoint to results//checkpoints/run3/population-27\n",
      "Saving checkpoint to results//checkpoints/run3/population-28\n",
      "Saving checkpoint to results//checkpoints/run3/population-29\n",
      "Run 3 completed, best fitness: 3.8\n",
      "Running NEAT algorithm, run 4\n",
      "pygame 2.5.2 (SDL 2.28.3, Python 3.11.9)\n",
      "Hello from the pygame community. https://www.pygame.org/contribute.html\n",
      "pygame 2.5.2 (SDL 2.28.3, Python 3.11.9)\n",
      "Hello from the pygame community. https://www.pygame.org/contribute.html\n",
      "pygame 2.5.2 (SDL 2.28.3, Python 3.11.9)\n",
      "Hello from the pygame community. https://www.pygame.org/contribute.html\n",
      "pygame 2.5.2 (SDL 2.28.3, Python 3.11.9)\n",
      "Hello from the pygame community. https://www.pygame.org/contribute.html\n",
      "pygame 2.5.2 (SDL 2.28.3, Python 3.11.9)\n",
      "Hello from the pygame community. https://www.pygame.org/contribute.html\n",
      "pygame 2.5.2 (SDL 2.28.3, Python 3.11.9)\n",
      "Hello from the pygame community. https://www.pygame.org/contribute.html\n",
      "pygame 2.5.2 (SDL 2.28.3, Python 3.11.9)\n",
      "Hello from the pygame community. https://www.pygame.org/contribute.html\n",
      "pygame 2.5.2 (SDL 2.28.3, Python 3.11.9)\n",
      "Hello from the pygame community. https://www.pygame.org/contribute.html\n",
      "Saving checkpoint to results//checkpoints/run4/population-0\n",
      "Saving checkpoint to results//checkpoints/run4/population-1\n",
      "Saving checkpoint to results//checkpoints/run4/population-2\n",
      "Saving checkpoint to results//checkpoints/run4/population-3\n",
      "Saving checkpoint to results//checkpoints/run4/population-4\n",
      "Saving checkpoint to results//checkpoints/run4/population-5\n",
      "Saving checkpoint to results//checkpoints/run4/population-6\n",
      "Saving checkpoint to results//checkpoints/run4/population-7\n",
      "Saving checkpoint to results//checkpoints/run4/population-8\n",
      "Saving checkpoint to results//checkpoints/run4/population-9\n",
      "Saving checkpoint to results//checkpoints/run4/population-10\n",
      "Saving checkpoint to results//checkpoints/run4/population-11\n",
      "Saving checkpoint to results//checkpoints/run4/population-12\n",
      "Saving checkpoint to results//checkpoints/run4/population-13\n",
      "Saving checkpoint to results//checkpoints/run4/population-14\n",
      "Saving checkpoint to results//checkpoints/run4/population-15\n",
      "Saving checkpoint to results//checkpoints/run4/population-16\n",
      "Saving checkpoint to results//checkpoints/run4/population-17\n",
      "Saving checkpoint to results//checkpoints/run4/population-18\n",
      "Saving checkpoint to results//checkpoints/run4/population-19\n",
      "Saving checkpoint to results//checkpoints/run4/population-20\n",
      "Saving checkpoint to results//checkpoints/run4/population-21\n",
      "Saving checkpoint to results//checkpoints/run4/population-22\n",
      "Saving checkpoint to results//checkpoints/run4/population-23\n",
      "Saving checkpoint to results//checkpoints/run4/population-24\n",
      "Saving checkpoint to results//checkpoints/run4/population-25\n",
      "Saving checkpoint to results//checkpoints/run4/population-26\n",
      "Saving checkpoint to results//checkpoints/run4/population-27\n",
      "Saving checkpoint to results//checkpoints/run4/population-28\n",
      "Saving checkpoint to results//checkpoints/run4/population-29\n",
      "Run 4 completed, best fitness: 8.0\n",
      "Best run: 0 with fitness:§ 14.0\n"
     ]
    }
   ],
   "source": [
    "BaselineSnake_winners_list, BaselineSnake_stats_list = BaselineSnake.run_NEAT_repeated(neat_config_path)\n",
    "best_run_idx = np.argmax([winner.fitness for winner in BaselineSnake_winners_list])\n",
    "print(f\"Best run: {best_run_idx} with fitness:§ {BaselineSnake_winners_list[best_run_idx].fitness}\")\n",
    "\n",
    "#Save results\n",
    "np.save(local_dir + '/' + Paths.RESULTS_PATH + '/BaselineSnake_winners_list', BaselineSnake_winners_list)\n",
    "np.save(local_dir + '/' + Paths.RESULTS_PATH + 'BaselineSnake_stats_list', BaselineSnake_stats_list)"
   ]
  },
  {
   "cell_type": "markdown",
   "metadata": {},
   "source": [
    "### Simulate the best genome\n",
    "\n",
    "Let's see how the best genome from the last run performs in the game."
   ]
  },
  {
   "cell_type": "code",
   "execution_count": 5,
   "metadata": {},
   "outputs": [
    {
     "ename": "SystemExit",
     "evalue": "",
     "output_type": "error",
     "traceback": [
      "An exception has occurred, use %tb to see the full traceback.\n",
      "\u001b[0;31mSystemExit\u001b[0m\n"
     ]
    },
    {
     "name": "stderr",
     "output_type": "stream",
     "text": [
      "/Users/ringo/anaconda3/envs/BrainyBoa/lib/python3.11/site-packages/IPython/core/interactiveshell.py:3561: UserWarning: To exit: use 'exit', 'quit', or Ctrl-D.\n",
      "  warn(\"To exit: use 'exit', 'quit', or Ctrl-D.\", stacklevel=1)\n"
     ]
    }
   ],
   "source": [
    "BaselineSnake.test_winner(BaselineSnake_winners_list[best_run_idx], neat_config_path)"
   ]
  },
  {
   "cell_type": "markdown",
   "metadata": {},
   "source": [
    "## Changing the Frame of Reference\n",
    "In practice, having outputs for each of the 4 directions is not very useful. This is because one output will always result in death (the snake running back in its own body). Instead, we can have 3 outputs: one for turning left, one for turning right and one for moving straight. We can set `output_frame_of_reference = 'SNAKE'` to use this frame of reference and compare performance. "
   ]
  },
  {
   "cell_type": "code",
   "execution_count": 2,
   "metadata": {},
   "outputs": [
    {
     "name": "stdout",
     "output_type": "stream",
     "text": [
      "{'num_inputs': '12', 'num_outputs': '3'}\n",
      "Running NEAT algorithm, run 0\n",
      "pygame 2.5.2 (SDL 2.28.3, Python 3.11.9)\n",
      "Hello from the pygame community. https://www.pygame.org/contribute.html\n",
      "pygame 2.5.2 (SDL 2.28.3, Python 3.11.9)\n",
      "Hello from the pygame community. https://www.pygame.org/contribute.html\n",
      "pygame 2.5.2 (SDL 2.28.3, Python 3.11.9)\n",
      "Hello from the pygame community. https://www.pygame.org/contribute.html\n",
      "pygame 2.5.2 (SDL 2.28.3, Python 3.11.9)\n",
      "Hello from the pygame community. https://www.pygame.org/contribute.html\n",
      "pygame 2.5.2 (SDL 2.28.3, Python 3.11.9)\n",
      "Hello from the pygame community. https://www.pygame.org/contribute.html\n",
      "pygame 2.5.2 (SDL 2.28.3, Python 3.11.9)\n",
      "Hello from the pygame community. https://www.pygame.org/contribute.html\n",
      "pygame 2.5.2 (SDL 2.28.3, Python 3.11.9)\n",
      "Hello from the pygame community. https://www.pygame.org/contribute.html\n",
      "pygame 2.5.2 (SDL 2.28.3, Python 3.11.9)\n",
      "Hello from the pygame community. https://www.pygame.org/contribute.html\n",
      "Saving checkpoint to results//checkpoints/run0/population-0\n",
      "Saving checkpoint to results//checkpoints/run0/population-1\n",
      "Saving checkpoint to results//checkpoints/run0/population-2\n",
      "Saving checkpoint to results//checkpoints/run0/population-3\n",
      "Saving checkpoint to results//checkpoints/run0/population-4\n",
      "Saving checkpoint to results//checkpoints/run0/population-5\n",
      "Saving checkpoint to results//checkpoints/run0/population-6\n",
      "Saving checkpoint to results//checkpoints/run0/population-7\n",
      "Saving checkpoint to results//checkpoints/run0/population-8\n",
      "Saving checkpoint to results//checkpoints/run0/population-9\n",
      "Saving checkpoint to results//checkpoints/run0/population-10\n",
      "Saving checkpoint to results//checkpoints/run0/population-11\n",
      "Saving checkpoint to results//checkpoints/run0/population-12\n",
      "Saving checkpoint to results//checkpoints/run0/population-13\n",
      "Saving checkpoint to results//checkpoints/run0/population-14\n",
      "Saving checkpoint to results//checkpoints/run0/population-15\n",
      "Saving checkpoint to results//checkpoints/run0/population-16\n",
      "Saving checkpoint to results//checkpoints/run0/population-17\n",
      "Saving checkpoint to results//checkpoints/run0/population-18\n",
      "Saving checkpoint to results//checkpoints/run0/population-19\n",
      "Saving checkpoint to results//checkpoints/run0/population-20\n",
      "Saving checkpoint to results//checkpoints/run0/population-21\n",
      "Saving checkpoint to results//checkpoints/run0/population-22\n",
      "Saving checkpoint to results//checkpoints/run0/population-23\n",
      "Saving checkpoint to results//checkpoints/run0/population-24\n",
      "Saving checkpoint to results//checkpoints/run0/population-25\n",
      "Saving checkpoint to results//checkpoints/run0/population-26\n",
      "Saving checkpoint to results//checkpoints/run0/population-27\n",
      "Saving checkpoint to results//checkpoints/run0/population-28\n",
      "Saving checkpoint to results//checkpoints/run0/population-29\n",
      "Saving checkpoint to results//checkpoints/run0/population-30\n",
      "Saving checkpoint to results//checkpoints/run0/population-31\n",
      "Saving checkpoint to results//checkpoints/run0/population-32\n",
      "Saving checkpoint to results//checkpoints/run0/population-33\n",
      "Saving checkpoint to results//checkpoints/run0/population-34\n",
      "Saving checkpoint to results//checkpoints/run0/population-35\n",
      "Saving checkpoint to results//checkpoints/run0/population-36\n",
      "Saving checkpoint to results//checkpoints/run0/population-37\n",
      "Saving checkpoint to results//checkpoints/run0/population-38\n",
      "Saving checkpoint to results//checkpoints/run0/population-39\n",
      "Run 0 completed, best fitness: 3.2\n",
      "Best run: 0 with fitness:§ 3.2\n"
     ]
    }
   ],
   "source": [
    "SnakeV1 = SnakeGame(input_features= ['wall', 'relative_body','relative_apple'],\n",
    "                          input_frame_of_reference= 'NSEW', \n",
    "                          output_frame_of_reference= 'SNAKE', \n",
    "                          use_obstacles= False,\n",
    "                          n_runs = 1,\n",
    "                          n_generations = 40,\n",
    "                          time_interval= 200,\n",
    "                          checkpoint_interval= 10)\n",
    "\n",
    "#Update the NEAT configuration file with the input and output features of the BaselineSnake [This needs to be done every time the input features are changed]\n",
    "print(SnakeV1.neat_params['input_output']['DefaultGenome'])\n",
    "update_config('config-neat','DefaultGenome', SnakeV1.neat_params['input_output']['DefaultGenome'])\n",
    "\n",
    "#Run the NEAT algorithm on the SnakeV1\n",
    "SnakeV1_winners_list, SnakeV1_stats_list = SnakeV1.run_NEAT_repeated(neat_config_path)\n",
    "best_run_idx = np.argmax([winner.fitness for winner in SnakeV1_winners_list])\n",
    "print(f\"Best run: {best_run_idx} with fitness:§ {SnakeV1_winners_list[best_run_idx].fitness}\")\n",
    "\n",
    "#Save results\n",
    "np.save(local_dir + '/' + Paths.RESULTS_PATH + 'SnakeV1_winners_list', SnakeV1_winners_list)\n",
    "np.save(local_dir + '/' + Paths.RESULTS_PATH + 'SnakeV1_stats_list', SnakeV1_stats_list)"
   ]
  },
  {
   "cell_type": "markdown",
   "metadata": {},
   "source": [
    "### Simulate the best genome"
   ]
  },
  {
   "cell_type": "code",
   "execution_count": 4,
   "metadata": {},
   "outputs": [
    {
     "ename": "SystemExit",
     "evalue": "",
     "output_type": "error",
     "traceback": [
      "An exception has occurred, use %tb to see the full traceback.\n",
      "\u001b[0;31mSystemExit\u001b[0m\n"
     ]
    }
   ],
   "source": [
    "SnakeV1.test_winner(SnakeV1_winners_list[best_run_idx], neat_config_path)"
   ]
  },
  {
   "cell_type": "markdown",
   "metadata": {},
   "source": [
    "### Compare the two output frames of reference"
   ]
  },
  {
   "cell_type": "code",
   "execution_count": null,
   "metadata": {},
   "outputs": [],
   "source": [
    "# Load the data\n",
    "# BaselineSnake_winners_list = np.load(local_dir + '/results/BaselineSnake_winners_list.npy', allow_pickle=True)\n",
    "# BaselineSnake_stats_list = np.load(local_dir + '/results/BaselineSnake_winners_list.npy', allow_pickle=True)\n",
    "\n",
    "# SnakeV1_winners_list = np.load(local_dir + '/results/SnakeV1_winners_list.npy', allow_pickle=True)\n",
    "# SnakeV1_stats_list = np.load(local_dir + '/results/SnakeV1_stats_list.npy', allow_pickle=True)"
   ]
  },
  {
   "cell_type": "code",
   "execution_count": 6,
   "metadata": {},
   "outputs": [
    {
     "ename": "NameError",
     "evalue": "name 'BaselineSnake_stats_list' is not defined",
     "output_type": "error",
     "traceback": [
      "\u001b[0;31m---------------------------------------------------------------------------\u001b[0m",
      "\u001b[0;31mNameError\u001b[0m                                 Traceback (most recent call last)",
      "Cell \u001b[0;32mIn[6], line 1\u001b[0m\n\u001b[0;32m----> 1\u001b[0m average_fitness_baseline \u001b[38;5;241m=\u001b[39m np\u001b[38;5;241m.\u001b[39mmean([np\u001b[38;5;241m.\u001b[39marray(stats\u001b[38;5;241m.\u001b[39mget_fitness_mean())[\u001b[38;5;241m-\u001b[39m\u001b[38;5;241m1\u001b[39m] \u001b[38;5;28;01mfor\u001b[39;00m stats \u001b[38;5;129;01min\u001b[39;00m BaselineSnake_stats_list])\n\u001b[1;32m      2\u001b[0m std_fitness_baseline \u001b[38;5;241m=\u001b[39m np\u001b[38;5;241m.\u001b[39mstd([np\u001b[38;5;241m.\u001b[39marray(stats\u001b[38;5;241m.\u001b[39mget_fitness_mean())[\u001b[38;5;241m-\u001b[39m\u001b[38;5;241m1\u001b[39m] \u001b[38;5;28;01mfor\u001b[39;00m stats \u001b[38;5;129;01min\u001b[39;00m BaselineSnake_stats_list])\n\u001b[1;32m      4\u001b[0m \u001b[38;5;66;03m# Calculate average fitness and standard deviation over all runs\u001b[39;00m\n",
      "\u001b[0;31mNameError\u001b[0m: name 'BaselineSnake_stats_list' is not defined"
     ]
    }
   ],
   "source": [
    "average_fitness_baseline = np.mean([np.array(stats.get_fitness_mean())[-1] for stats in BaselineSnake_stats_list])\n",
    "std_fitness_baseline = np.std([np.array(stats.get_fitness_mean())[-1] for stats in BaselineSnake_stats_list])\n",
    "\n",
    "# Calculate average fitness and standard deviation over all runs\n",
    "average_fitness_V1= np.mean([np.array(stats.get_fitness_mean())[-1] for stats in SnakeV1_stats_list])\n",
    "std_fitness_V1 = np.std([np.array(stats.get_fitness_mean())[-1] for stats in SnakeV1_stats_list])\n",
    "\n",
    "\n",
    "# Data to plot\n",
    "fitness_means = [average_fitness_baseline, average_fitness_V1]\n",
    "fitness_stds = [std_fitness_baseline, std_fitness_V1]\n",
    "labels = ['NSWE Input & Output', 'NSWE Input & Snake Output']\n",
    "\n",
    "# Creating the bar plot\n",
    "fig, ax = plt.subplots()\n",
    "ax.bar(labels, fitness_means, yerr=fitness_stds, capsize=5, color=['#c0392b', '#229954'])\n",
    "ax.set_ylabel('Average Fitness')\n",
    "ax.set_title(f'Average Fitness over {BaselineSnake.N_RUNS} Runs after {BaselineSnake.N_GENERATIONS} Generations')\n",
    "\n",
    "# Show the plot\n",
    "plt.savefig(local_dir + '/' + Paths.RESULTS_PATH + '/fitness_comparison.png')\n",
    "plt.show()"
   ]
  },
  {
   "cell_type": "markdown",
   "metadata": {},
   "source": [
    "## Whats wrong?\n",
    "\n",
    "We could say that that result is not that great. Although it might seem we made the network's job easier by reducing the number of outputs and not being able to run in itself, we gave it a much harder task: learn a coordinate transformation from the cardinal directions to the new frame of reference. This is a much harder task than simply learning to avoid running into itself.\n",
    "\n",
    "To fix this, we can define the inputs of the network in the new frame of reference. This way, the network will not have to learn the transformation. We can set `input_frame_of_reference = 'SNAKE'` to use this frame of reference and compare performance."
   ]
  },
  {
   "cell_type": "code",
   "execution_count": 5,
   "metadata": {},
   "outputs": [
    {
     "name": "stdout",
     "output_type": "stream",
     "text": [
      "{'num_inputs': '9', 'num_outputs': '3'}\n",
      "Running NEAT algorithm, run 0\n",
      "pygame 2.5.2 (SDL 2.28.3, Python 3.11.9)\n",
      "Hello from the pygame community. https://www.pygame.org/contribute.html\n",
      "pygame 2.5.2 (SDL 2.28.3, Python 3.11.9)\n",
      "Hello from the pygame community. https://www.pygame.org/contribute.html\n",
      "pygame 2.5.2 (SDL 2.28.3, Python 3.11.9)\n",
      "Hello from the pygame community. https://www.pygame.org/contribute.html\n",
      "pygame 2.5.2 (SDL 2.28.3, Python 3.11.9)\n",
      "Hello from the pygame community. https://www.pygame.org/contribute.html\n",
      "pygame 2.5.2 (SDL 2.28.3, Python 3.11.9)\n",
      "Hello from the pygame community. https://www.pygame.org/contribute.html\n",
      "pygame 2.5.2 (SDL 2.28.3, Python 3.11.9)\n",
      "Hello from the pygame community. https://www.pygame.org/contribute.html\n",
      "pygame 2.5.2 (SDL 2.28.3, Python 3.11.9)\n",
      "Hello from the pygame community. https://www.pygame.org/contribute.html\n",
      "pygame 2.5.2 (SDL 2.28.3, Python 3.11.9)\n",
      "Hello from the pygame community. https://www.pygame.org/contribute.html\n",
      "Saving checkpoint to results//checkpoints/run0/population-0\n",
      "Saving checkpoint to results//checkpoints/run0/population-1\n",
      "Saving checkpoint to results//checkpoints/run0/population-2\n",
      "Saving checkpoint to results//checkpoints/run0/population-3\n",
      "Saving checkpoint to results//checkpoints/run0/population-4\n",
      "Saving checkpoint to results//checkpoints/run0/population-5\n",
      "Saving checkpoint to results//checkpoints/run0/population-6\n",
      "Saving checkpoint to results//checkpoints/run0/population-7\n",
      "Saving checkpoint to results//checkpoints/run0/population-8\n",
      "Saving checkpoint to results//checkpoints/run0/population-9\n",
      "Saving checkpoint to results//checkpoints/run0/population-10\n",
      "Saving checkpoint to results//checkpoints/run0/population-11\n",
      "Saving checkpoint to results//checkpoints/run0/population-12\n",
      "Saving checkpoint to results//checkpoints/run0/population-13\n",
      "Saving checkpoint to results//checkpoints/run0/population-14\n",
      "Saving checkpoint to results//checkpoints/run0/population-15\n",
      "Saving checkpoint to results//checkpoints/run0/population-16\n",
      "Saving checkpoint to results//checkpoints/run0/population-17\n",
      "Saving checkpoint to results//checkpoints/run0/population-18\n",
      "Saving checkpoint to results//checkpoints/run0/population-19\n",
      "Saving checkpoint to results//checkpoints/run0/population-20\n",
      "Saving checkpoint to results//checkpoints/run0/population-21\n",
      "Saving checkpoint to results//checkpoints/run0/population-22\n",
      "Saving checkpoint to results//checkpoints/run0/population-23\n",
      "Saving checkpoint to results//checkpoints/run0/population-24\n",
      "Saving checkpoint to results//checkpoints/run0/population-25\n",
      "Saving checkpoint to results//checkpoints/run0/population-26\n",
      "Saving checkpoint to results//checkpoints/run0/population-27\n",
      "Saving checkpoint to results//checkpoints/run0/population-28\n",
      "Saving checkpoint to results//checkpoints/run0/population-29\n",
      "Saving checkpoint to results//checkpoints/run0/population-30\n",
      "Saving checkpoint to results//checkpoints/run0/population-31\n",
      "Saving checkpoint to results//checkpoints/run0/population-32\n",
      "Saving checkpoint to results//checkpoints/run0/population-33\n",
      "Saving checkpoint to results//checkpoints/run0/population-34\n",
      "Saving checkpoint to results//checkpoints/run0/population-35\n",
      "Saving checkpoint to results//checkpoints/run0/population-36\n",
      "Saving checkpoint to results//checkpoints/run0/population-37\n",
      "Saving checkpoint to results//checkpoints/run0/population-38\n",
      "Saving checkpoint to results//checkpoints/run0/population-39\n",
      "Run 0 completed, best fitness: 24.8\n"
     ]
    },
    {
     "ename": "NameError",
     "evalue": "name 'Snake21_winners_list' is not defined",
     "output_type": "error",
     "traceback": [
      "\u001b[0;31m---------------------------------------------------------------------------\u001b[0m",
      "\u001b[0;31mNameError\u001b[0m                                 Traceback (most recent call last)",
      "Cell \u001b[0;32mIn[5], line 17\u001b[0m\n\u001b[1;32m     15\u001b[0m SnakeV2_winners_list, SnakeV2_stats_list \u001b[38;5;241m=\u001b[39m SnakeV2\u001b[38;5;241m.\u001b[39mrun_NEAT_repeated(neat_config_path)\n\u001b[1;32m     16\u001b[0m best_run_idx \u001b[38;5;241m=\u001b[39m np\u001b[38;5;241m.\u001b[39margmax([winner\u001b[38;5;241m.\u001b[39mfitness \u001b[38;5;28;01mfor\u001b[39;00m winner \u001b[38;5;129;01min\u001b[39;00m SnakeV2_winners_list])\n\u001b[0;32m---> 17\u001b[0m \u001b[38;5;28mprint\u001b[39m(\u001b[38;5;124mf\u001b[39m\u001b[38;5;124m\"\u001b[39m\u001b[38;5;124mBest run: \u001b[39m\u001b[38;5;132;01m{\u001b[39;00mbest_run_idx\u001b[38;5;132;01m}\u001b[39;00m\u001b[38;5;124m with fitness:§ \u001b[39m\u001b[38;5;132;01m{\u001b[39;00mSnake21_winners_list[best_run_idx]\u001b[38;5;241m.\u001b[39mfitness\u001b[38;5;132;01m}\u001b[39;00m\u001b[38;5;124m\"\u001b[39m)\n\u001b[1;32m     19\u001b[0m \u001b[38;5;66;03m#Save results\u001b[39;00m\n\u001b[1;32m     20\u001b[0m np\u001b[38;5;241m.\u001b[39msave(local_dir \u001b[38;5;241m+\u001b[39m \u001b[38;5;124m'\u001b[39m\u001b[38;5;124m/\u001b[39m\u001b[38;5;124m'\u001b[39m \u001b[38;5;241m+\u001b[39m Paths\u001b[38;5;241m.\u001b[39mRESULTS_PATH \u001b[38;5;241m+\u001b[39m \u001b[38;5;124m'\u001b[39m\u001b[38;5;124mSnakeV2_winners_list\u001b[39m\u001b[38;5;124m'\u001b[39m, SnakeV2_winners_list)\n",
      "\u001b[0;31mNameError\u001b[0m: name 'Snake21_winners_list' is not defined"
     ]
    }
   ],
   "source": [
    "SnakeV2 = SnakeGame(input_features= ['wall', 'relative_body','relative_apple'],\n",
    "                          input_frame_of_reference= 'SNAKE', \n",
    "                          output_frame_of_reference= 'SNAKE', \n",
    "                          use_obstacles= False,\n",
    "                          n_runs = 1,\n",
    "                          n_generations = 40,\n",
    "                          time_interval= 200,\n",
    "                          checkpoint_interval= 10)\n",
    "\n",
    "#Update the NEAT configuration file with the input and output features of the BaselineSnake [This needs to be done every time the input features are changed]\n",
    "print(SnakeV2.neat_params['input_output']['DefaultGenome'])\n",
    "update_config('config-neat','DefaultGenome', SnakeV2.neat_params['input_output']['DefaultGenome'])\n",
    "\n",
    "#Run the NEAT algorithm on the SnakeV1\n",
    "SnakeV2_winners_list, SnakeV2_stats_list = SnakeV2.run_NEAT_repeated(neat_config_path)\n",
    "best_run_idx = np.argmax([winner.fitness for winner in SnakeV2_winners_list])\n",
    "print(f\"Best run: {best_run_idx} with fitness:§ {SnakeV2_winners_list[best_run_idx].fitness}\")\n",
    "\n",
    "#Save results\n",
    "np.save(local_dir + '/' + Paths.RESULTS_PATH + 'SnakeV2_winners_list', SnakeV2_winners_list)\n",
    "np.save(local_dir + '/' + Paths.RESULTS_PATH + 'SnakeV2_stats_list', SnakeV2_stats_list)"
   ]
  },
  {
   "cell_type": "markdown",
   "metadata": {},
   "source": [
    "### Add this to the plot"
   ]
  },
  {
   "cell_type": "code",
   "execution_count": null,
   "metadata": {},
   "outputs": [],
   "source": [
    "\n",
    "# Calculate average fitness and standard deviation over all runs\n",
    "average_fitness_V2= np.mean([np.array(stats.get_fitness_mean())[-1] for stats in SnakeV2_stats_list])\n",
    "std_fitness_V2 = np.std([np.array(stats.get_fitness_mean())[-1] for stats in SnakeV2_stats_list])\n",
    "\n",
    "# Data to plot\n",
    "fitness_means = [average_fitness_baseline, average_fitness_V1, average_fitness_V2]\n",
    "fitness_stds = [std_fitness_baseline, std_fitness_V1, std_fitness_V2]\n",
    "labels = ['NSWE Input & Output', 'NSWE Input & Snake Output', 'Snake Input & Output']\n",
    "\n",
    "# Creating the bar plot\n",
    "fig, ax = plt.subplots()\n",
    "ax.bar(labels, fitness_means, yerr=fitness_stds, capsize=5, color=['#c0392b', '#229954', '#3498db'])\n",
    "ax.set_ylabel('Average Fitness')\n",
    "ax.set_title(f'Average Fitness over {BaselineSnake.N_RUNS} Runs after {BaselineSnake.N_GENERATIONS} Generations')\n",
    "\n",
    "# Show the plot\n",
    "plt.savefig(local_dir + '/' + Paths.RESULTS_PATH + '/fitness_comparison.png')\n",
    "plt.show()"
   ]
  },
  {
   "cell_type": "markdown",
   "metadata": {},
   "source": [
    "## Evaluate Results"
   ]
  },
  {
   "cell_type": "code",
   "execution_count": null,
   "metadata": {},
   "outputs": [],
   "source": [
    "# Calculate average fitness and standard deviation for winners\n",
    "average_fitness_winners = np.mean([winner.fitness for winner in winners_list])\n",
    "std_fitness_winners = np.std([winner.fitness for winner in winners_list])\n",
    "\n",
    "# Calculate average fitness and standard deviation over all runs\n",
    "average_fitness = np.mean([np.array(stats.get_fitness_mean())[-1] for stats in stats_list])\n",
    "std_fitness = np.std([np.array(stats.get_fitness_mean())[-1] for stats in stats_list])\n",
    "\n",
    "# Data to plot\n",
    "fitness_means = [average_fitness_winners, average_fitness]\n",
    "fitness_stds = [std_fitness_winners, std_fitness]\n",
    "labels = ['Best Genomes', 'All Genomes']\n",
    "\n",
    "# Creating the bar plot\n",
    "fig, ax = plt.subplots()\n",
    "ax.bar(labels, fitness_means, yerr=fitness_stds, capsize=5, color=['#c0392b', '#229954'])\n",
    "ax.set_ylabel('Average Fitness')\n",
    "ax.set_title(f'Average Fitness over {BaselineSnake.N_RUNS} Runs')\n",
    "\n",
    "# Show the plot\n",
    "plt.savefig(local_dir + '/' + Paths.RESULTS_PATH + '/fitness_comparison.png')\n",
    "plt.show()"
   ]
  },
  {
   "cell_type": "markdown",
   "metadata": {},
   "source": [
    "### Plot the best genome"
   ]
  },
  {
   "cell_type": "code",
   "execution_count": null,
   "metadata": {},
   "outputs": [],
   "source": [
    "#Get statistics from the best run\n",
    "winner_stats = stats_list[best_run_idx]\n",
    "generations = range(1, BaselineSnake.N_GENERATIONS + 1)\n",
    "best_fitnesses = [g.fitness for g in winner_stats.most_fit_genomes]\n",
    "avg_fitnesses = np.array(winner_stats.get_fitness_mean())\n",
    "stdev_fitnesses = np.array(winner_stats.get_fitness_stdev())\n",
    "\n",
    "\n",
    "plt.plot(generations, best_fitnesses, color = '#c0392b', label=\"Best Genome\")\n",
    "plt.plot(generations, avg_fitnesses, color = '#229954', label=\"Average\")\n",
    "plt.plot(generations, avg_fitnesses + stdev_fitnesses, color = '#abebc6', label=\"+1 $\\sigma_{std}$\")\n",
    "plt.plot(generations, avg_fitnesses - stdev_fitnesses, color = '#abebc6', label=\"-1 $\\sigma_{std}$\")\n",
    "\n",
    "\n",
    "# plt.title(f\"Best Run ({best_run_idx + 1}) Results\")\n",
    "plt.title(f\"Fitness over Generations of Best Run ({best_run_idx + 1})\") \n",
    "plt.xlabel(\"Generations\")\n",
    "plt.ylabel(\"Fitness\")\n",
    "plt.grid()\n",
    "plt.legend(loc=\"best\")\n",
    "\n",
    "\n",
    "plt.show()"
   ]
  },
  {
   "cell_type": "markdown",
   "metadata": {},
   "source": [
    "### Compare the best snake at different generations"
   ]
  },
  {
   "cell_type": "code",
   "execution_count": null,
   "metadata": {},
   "outputs": [],
   "source": [
    "generation_nr_1 = 310\n",
    "generation_nr_2 = 410\n",
    "\n",
    "# Get the best genome at every generation\n",
    "best_genomes = [g for g in winner_stats.most_fit_genomes]\n",
    "\n",
    "genome_1 = best_genomes[generation_nr_1]\n",
    "genome_2 = best_genomes[generation_nr_2]"
   ]
  },
  {
   "cell_type": "code",
   "execution_count": null,
   "metadata": {},
   "outputs": [],
   "source": [
    "best_genomes = [g for g in winner_stats.most_fit_genomes]\n",
    "\n",
    "BaselineSnake.test_winner(genome_1, config_path) "
   ]
  },
  {
   "cell_type": "code",
   "execution_count": null,
   "metadata": {},
   "outputs": [],
   "source": [
    "BaselineSnake.test_winner(genome_2, config_path) "
   ]
  },
  {
   "cell_type": "markdown",
   "metadata": {},
   "source": [
    "### Plot the best solution of each run separately"
   ]
  },
  {
   "cell_type": "code",
   "execution_count": null,
   "metadata": {},
   "outputs": [],
   "source": [
    "#Get statistics from all runs\n",
    "stats = stats_list[best_run_idx]\n",
    "generations = range(1, BaselineSnake.N_GENERATIONS + 1)\n",
    "\n",
    "# Get the best genome at every generation\n",
    "best_genomes = [[g for g in stats.most_fit_genomes] for stats in stats_list]\n",
    "\n",
    "# Plot the best genome of each run\n",
    "for i, genome in enumerate(best_genomes):\n",
    "    best_fitnesses = [g.fitness for g in genome]\n",
    "    plt.plot(generations, best_fitnesses, label=f\"Run {i + 1}\")\n",
    "\n",
    "plt.title(f\"Best Genome of each Run\")\n",
    "plt.xlabel(\"Generations\")\n",
    "plt.ylabel(\"Fitness\")\n",
    "plt.grid()\n",
    "plt.legend(loc=\"best\")\n",
    "\n",
    "plt.savefig(local_dir + '/' + Paths.RESULTS_PATH + '/best_genomes_each_run.png')\n",
    "plt.show()"
   ]
  },
  {
   "cell_type": "markdown",
   "metadata": {},
   "source": [
    "### Visualize speciation of best run"
   ]
  },
  {
   "cell_type": "code",
   "execution_count": null,
   "metadata": {},
   "outputs": [],
   "source": [
    "species_sizes = np.array(winner_stats.get_species_sizes())\n",
    "num_generations = len(species_sizes)\n",
    "curves = np.array(species_sizes).T\n",
    "\n",
    "fig, ax = plt.subplots()\n",
    "ax.stackplot(range(num_generations), *curves)\n",
    "\n",
    "plt.title(\"Speciation\")\n",
    "plt.ylabel(\"Size per Species\")\n",
    "plt.xlabel(\"Generations\")\n",
    "\n",
    "plt.show()\n"
   ]
  },
  {
   "cell_type": "code",
   "execution_count": null,
   "metadata": {},
   "outputs": [],
   "source": [
    "total_species_fitness = np.array(winner_stats.get_species_fitness())\n",
    "\n",
    "print(total_species_fitness[:, 0])\n",
    "print(species_sizes[:, 0])\n",
    "\n",
    "print(total_species_fitness)"
   ]
  },
  {
   "cell_type": "code",
   "execution_count": null,
   "metadata": {},
   "outputs": [],
   "source": [
    "species_fitness = np.array(winner_stats.get_species_fitness())\n",
    "\n",
    "num_generations = len(species_sizes)\n",
    "\n",
    "\n",
    "for i in range (len(species_fitness[0])):\n",
    "    # Extract the column corresponding to the species\n",
    "    species_data = species_fitness[:, i]\n",
    "    \n",
    "    # Filter out empty strings and convert to float\n",
    "    valid_fitness = np.array([float(x) for x in species_data if x != ''])\n",
    "    \n",
    "    # Get the valid indices to match the generations\n",
    "    valid_indices = np.where(species_data != '')[0]\n",
    "\n",
    "    \n",
    "    # Plot only the valid data points\n",
    "    plt.plot(valid_indices, valid_fitness, label=f\"Species {i}\")\n",
    "\n",
    "plt.title(\"Speciation\")\n",
    "plt.ylabel(\"Species Fitness\")\n",
    "plt.xlabel(\"Generations\")\n",
    "# plt.yscale('log')\n",
    "plt.legend()\n",
    "\n",
    "plt.show()\n"
   ]
  },
  {
   "cell_type": "markdown",
   "metadata": {},
   "source": [
    "### Plot the n best solutions over all runs [NOT IMPLEMENTED]"
   ]
  },
  {
   "cell_type": "code",
   "execution_count": null,
   "metadata": {},
   "outputs": [],
   "source": [
    "stats = stats_list[best_run_idx]\n",
    "n_best_genomes =  stats.best_unique_genomes(5)\n",
    "\n",
    "n_best_genomes_fitness = [g.fitness for g in n_best_genomes]\n",
    "n_best_genomes_id = np.argpartition(n_best_genomes_fitness, -3)[-3:]\n",
    "print(n_best_genomes_fitness)\n",
    "print(n_best_genomes_id)"
   ]
  },
  {
   "cell_type": "code",
   "execution_count": null,
   "metadata": {},
   "outputs": [],
   "source": [
    "n = 5\n",
    "\n",
    "# Get the n best genomes from all runs\n",
    "all_best_genomes = []\n",
    "for stats in stats_list:\n",
    "    all_best_genomes += stats.best_unique_genomes(n)\n",
    "\n",
    "all_best_fitness = [g.fitness for g in all_best_genomes]\n",
    "n_best_genomes_id = np.argpartition(all_best_fitness, -n)[-n:]\n",
    "\n",
    "\n",
    "plt.figure()\n",
    "generations = range(1, BaselineSnake.N_RUNS + 1)\n",
    "for id in n_best_genomes_id:\n",
    "    genome = all_best_genomes[id]\n",
    "    best_fitnesses = [g.fitness for g in genome]\n",
    "    plt.plot(generations, best_fitnesses)\n",
    "\n",
    "plt.plot(generations, best_fitnesses, 'r-', label=\"best\")\n",
    "\n",
    "plt.title(f\"Best Run ({best_run_idx + 1}) Results\")\n",
    "plt.xlabel(\"Generations\")\n",
    "plt.ylabel(\"Fitness\")\n",
    "plt.grid()\n",
    "plt.legend(loc=\"best\")\n",
    "\n",
    "plt.show()"
   ]
  },
  {
   "cell_type": "markdown",
   "metadata": {},
   "source": [
    "### Checkpoint restoration [DOES NOT WORK PROPERLY FOR NOW]\n",
    "\n",
    "If I restore a checkpoint, and then check the fitness of that population, it does not match up with the graphs above. I am not sure why. I will try to figure it out later, if we will actually need to use this."
   ]
  },
  {
   "cell_type": "code",
   "execution_count": null,
   "metadata": {},
   "outputs": [],
   "source": [
    "generation_nr_1 = 18\n",
    "population_1 = neat.Checkpointer.restore_checkpoint(f'results/checkpoints/run{best_run_idx}/population-{generation_nr_1}')\n",
    "\n",
    "genome_tuples = list(iter(population_1.population.items()))   # List of (genome_id, genome) tuples.\n",
    "\n",
    "# Assign a fitness value to each genome\n",
    "BaselineSnake.eval_genomes(genome_tuples, neat_config)\n",
    "\n",
    "# Get the best genome of the generation\n",
    "genomes = population_1.population.values() # List of the genomes after evaluation.\n",
    "best_genome = None\n",
    "for i, g in enumerate(iter(genomes)):\n",
    "    if best_genome is None or g.fitness > best_genome.fitness:\n",
    "        best_genome = g\n",
    "\n",
    "print(f\"Best genome has fitness: {best_genome.fitness}\")"
   ]
  }
 ],
 "metadata": {
  "kernelspec": {
   "display_name": "Python 3",
   "language": "python",
   "name": "python3"
  },
  "language_info": {
   "codemirror_mode": {
    "name": "ipython",
    "version": 3
   },
   "file_extension": ".py",
   "mimetype": "text/x-python",
   "name": "python",
   "nbconvert_exporter": "python",
   "pygments_lexer": "ipython3",
   "version": "3.11.9"
  }
 },
 "nbformat": 4,
 "nbformat_minor": 2
}

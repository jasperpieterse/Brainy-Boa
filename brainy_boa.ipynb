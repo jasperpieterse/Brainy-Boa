{
 "cells": [
  {
   "cell_type": "markdown",
   "metadata": {},
   "source": [
    "## Imports"
   ]
  },
  {
   "cell_type": "code",
   "execution_count": 1,
   "metadata": {},
   "outputs": [
    {
     "name": "stdout",
     "output_type": "stream",
     "text": [
      "pygame 2.5.2 (SDL 2.28.3, Python 3.11.9)\n",
      "Hello from the pygame community. https://www.pygame.org/contribute.html\n"
     ]
    }
   ],
   "source": [
    "import os\n",
    "import numpy as np\n",
    "import matplotlib.pyplot as plt\n",
    "import neat\n",
    "\n",
    "from snake_game import *\n",
    "\n",
    "#Set the local directory\n",
    "local_dir = os.getcwd()\n",
    "neat_config_path = os.path.join(local_dir, Paths.NEAT_CONFIG_PATH)\n",
    "config_path = os.path.join(local_dir, Paths.CONFIG_PATH)\n",
    "\n",
    "# Load neat configuration into a NEAT object.\n",
    "neat_config = neat.Config(neat.DefaultGenome, neat.DefaultReproduction,\n",
    "                        neat.DefaultSpeciesSet, neat.DefaultStagnation,\n",
    "                        neat_config_path)"
   ]
  },
  {
   "cell_type": "markdown",
   "metadata": {},
   "source": [
    "### Set up\n",
    "\n",
    "We will first create an instance of the SnakeGame class and run the game for a few steps to see how it works."
   ]
  },
  {
   "cell_type": "code",
   "execution_count": 3,
   "metadata": {},
   "outputs": [
    {
     "name": "stdout",
     "output_type": "stream",
     "text": [
      "{'num_inputs': '12', 'num_outputs': '3'}\n"
     ]
    }
   ],
   "source": [
    "BaselineSnake = SnakeGame(input_features= ['wall', 'relative_body','relative_apple', 'relative_obstacle'],\n",
    "                          input_frame_of_reference= 'SNAKE', \n",
    "                          output_frame_of_reference= 'SNAKE', \n",
    "                          use_obstacles=True,\n",
    "                          n_runs = 1,\n",
    "                          n_generations = 2,\n",
    "                          time_interval= 200)\n",
    "print(BaselineSnake.neat_params['input_output']['DefaultGenome'])\n",
    "update_config('config-neat','DefaultGenome', BaselineSnake.neat_params['input_output']['DefaultGenome'])"
   ]
  },
  {
   "cell_type": "code",
   "execution_count": 4,
   "metadata": {},
   "outputs": [
    {
     "name": "stdout",
     "output_type": "stream",
     "text": [
      "Running NEAT algorithm, run 0\n",
      "pygame 2.5.2 (SDL 2.28.3, Python 3.11.9)\n",
      "Hello from the pygame community. https://www.pygame.org/contribute.html\n",
      "pygame 2.5.2 (SDL 2.28.3, Python 3.11.9)\n",
      "Hello from the pygame community. https://www.pygame.org/contribute.html\n",
      "pygame 2.5.2 (SDL 2.28.3, Python 3.11.9)\n",
      "Hello from the pygame community. https://www.pygame.org/contribute.html\n",
      "pygame 2.5.2 (SDL 2.28.3, Python 3.11.9)\n",
      "Hello from the pygame community. https://www.pygame.org/contribute.html\n",
      "pygame 2.5.2 (SDL 2.28.3, Python 3.11.9)\n",
      "Hello from the pygame community. https://www.pygame.org/contribute.html\n",
      "pygame 2.5.2 (SDL 2.28.3, Python 3.11.9)\n",
      "Hello from the pygame community. https://www.pygame.org/contribute.html\n",
      "pygame 2.5.2 (SDL 2.28.3, Python 3.11.9)\n",
      "Hello from the pygame community. https://www.pygame.org/contribute.html\n",
      "pygame 2.5.2 (SDL 2.28.3, Python 3.11.9)\n",
      "Hello from the pygame community. https://www.pygame.org/contribute.html\n",
      "Saving checkpoint to results//checkpoints/run0/population-0\n",
      "Saving checkpoint to results//checkpoints/run0/population-1\n",
      "Run 0 completed, best fitness: 3.2\n",
      "Best run: 0 with fitness:§ 3.2\n"
     ]
    }
   ],
   "source": [
    "winners_list, stats_list_baseline = BaselineSnake.run_NEAT_repeated(neat_config_path)\n",
    "best_run_idx = np.argmax([winner.fitness for winner in winners_list])\n",
    "print(f\"Best run: {best_run_idx} with fitness:§ {winners_list[best_run_idx].fitness}\")"
   ]
  },
  {
   "cell_type": "code",
   "execution_count": 8,
   "metadata": {},
   "outputs": [
    {
     "ename": "KeyboardInterrupt",
     "evalue": "",
     "output_type": "error",
     "traceback": [
      "\u001b[0;31m---------------------------------------------------------------------------\u001b[0m",
      "\u001b[0;31mKeyboardInterrupt\u001b[0m                         Traceback (most recent call last)",
      "Cell \u001b[0;32mIn[8], line 1\u001b[0m\n\u001b[0;32m----> 1\u001b[0m BaselineSnake\u001b[38;5;241m.\u001b[39mtest_winner(winners_list[\u001b[38;5;241m-\u001b[39m\u001b[38;5;241m1\u001b[39m], neat_config_path)\n",
      "File \u001b[0;32m~/Physicss/Natural-Computing/Brainy Boa/snake_class.py:767\u001b[0m, in \u001b[0;36mSnakeGame.test_winner\u001b[0;34m(self, genome, config_path)\u001b[0m\n\u001b[1;32m    764\u001b[0m net \u001b[38;5;241m=\u001b[39m neat\u001b[38;5;241m.\u001b[39mnn\u001b[38;5;241m.\u001b[39mFeedForwardNetwork\u001b[38;5;241m.\u001b[39mcreate(genome, config) \u001b[38;5;66;03m# Initialize the neural network from the passed genome.s\u001b[39;00m\n\u001b[1;32m    766\u001b[0m \u001b[38;5;66;03m# run the simulation\u001b[39;00m\n\u001b[0;32m--> 767\u001b[0m \u001b[38;5;28mself\u001b[39m\u001b[38;5;241m.\u001b[39msimulate_animation(net, genome, config)\n",
      "File \u001b[0;32m~/Physicss/Natural-Computing/Brainy Boa/snake_class.py:472\u001b[0m, in \u001b[0;36mSnakeGame.simulate_animation\u001b[0;34m(self, net, genome, config)\u001b[0m\n\u001b[1;32m    470\u001b[0m \u001b[38;5;28;01mif\u001b[39;00m \u001b[38;5;28mself\u001b[39m\u001b[38;5;241m.\u001b[39mUSE_OBSTACLES:\n\u001b[1;32m    471\u001b[0m     \u001b[38;5;28mself\u001b[39m\u001b[38;5;241m.\u001b[39mdraw_obstacle()\n\u001b[0;32m--> 472\u001b[0m \u001b[38;5;28mself\u001b[39m\u001b[38;5;241m.\u001b[39mdraw_network(net, genome, node_centers, hidden_nodes)\n\u001b[1;32m    473\u001b[0m \u001b[38;5;28mself\u001b[39m\u001b[38;5;241m.\u001b[39mdraw_fitness()\n\u001b[1;32m    474\u001b[0m pygame\u001b[38;5;241m.\u001b[39mdisplay\u001b[38;5;241m.\u001b[39mflip()\n",
      "File \u001b[0;32m~/Physicss/Natural-Computing/Brainy Boa/snake_class.py:590\u001b[0m, in \u001b[0;36mSnakeGame.draw_network\u001b[0;34m(self, net, genome, node_centers, hidden_nodes)\u001b[0m\n\u001b[1;32m    583\u001b[0m         \u001b[38;5;28;01melif\u001b[39;00m feature \u001b[38;5;241m==\u001b[39m \u001b[38;5;124m'\u001b[39m\u001b[38;5;124mnearest_body_direction\u001b[39m\u001b[38;5;124m'\u001b[39m:\n\u001b[1;32m    584\u001b[0m             node_names\u001b[38;5;241m.\u001b[39mupdate({\n\u001b[1;32m    585\u001b[0m                 \u001b[38;5;241m-\u001b[39mi\u001b[38;5;241m*\u001b[39m\u001b[38;5;241m3\u001b[39m\u001b[38;5;241m-\u001b[39m\u001b[38;5;241m1\u001b[39m: \u001b[38;5;124m\"\u001b[39m\u001b[38;5;124mBody_F\u001b[39m\u001b[38;5;124m\"\u001b[39m,\n\u001b[1;32m    586\u001b[0m                 \u001b[38;5;241m-\u001b[39mi\u001b[38;5;241m*\u001b[39m\u001b[38;5;241m3\u001b[39m\u001b[38;5;241m-\u001b[39m\u001b[38;5;241m2\u001b[39m: \u001b[38;5;124m\"\u001b[39m\u001b[38;5;124mBody_L\u001b[39m\u001b[38;5;124m\"\u001b[39m,\n\u001b[1;32m    587\u001b[0m                 \u001b[38;5;241m-\u001b[39mi\u001b[38;5;241m*\u001b[39m\u001b[38;5;241m3\u001b[39m\u001b[38;5;241m-\u001b[39m\u001b[38;5;241m3\u001b[39m: \u001b[38;5;124m\"\u001b[39m\u001b[38;5;124mBody_R\u001b[39m\u001b[38;5;124m\"\u001b[39m\n\u001b[1;32m    588\u001b[0m             })\n\u001b[0;32m--> 590\u001b[0m \u001b[38;5;28mself\u001b[39m\u001b[38;5;241m.\u001b[39mdraw_connections(net\u001b[38;5;241m.\u001b[39minput_nodes, net\u001b[38;5;241m.\u001b[39moutput_nodes, net, genome, node_centers)\n\u001b[1;32m    591\u001b[0m \u001b[38;5;28mself\u001b[39m\u001b[38;5;241m.\u001b[39mdraw_connections(net\u001b[38;5;241m.\u001b[39minput_nodes, hidden_nodes, net, genome, node_centers)\n\u001b[1;32m    592\u001b[0m \u001b[38;5;28mself\u001b[39m\u001b[38;5;241m.\u001b[39mdraw_connections(hidden_nodes, hidden_nodes, net, genome, node_centers)\n",
      "File \u001b[0;32m~/Physicss/Natural-Computing/Brainy Boa/snake_class.py:513\u001b[0m, in \u001b[0;36mSnakeGame.draw_connections\u001b[0;34m(self, first_set, second_set, net, genome, node_centers)\u001b[0m\n\u001b[1;32m    510\u001b[0m weight \u001b[38;5;241m=\u001b[39m genome\u001b[38;5;241m.\u001b[39mconnections[(first, second)]\u001b[38;5;241m.\u001b[39mweight\n\u001b[1;32m    511\u001b[0m color \u001b[38;5;241m=\u001b[39m \u001b[38;5;28mself\u001b[39m\u001b[38;5;241m.\u001b[39mBLUE \u001b[38;5;28;01mif\u001b[39;00m weight \u001b[38;5;241m>\u001b[39m\u001b[38;5;241m=\u001b[39m \u001b[38;5;241m0\u001b[39m \u001b[38;5;28;01melse\u001b[39;00m \u001b[38;5;28mself\u001b[39m\u001b[38;5;241m.\u001b[39mORANGE\n\u001b[0;32m--> 513\u001b[0m surf \u001b[38;5;241m=\u001b[39m pygame\u001b[38;5;241m.\u001b[39mSurface((\u001b[38;5;28mself\u001b[39m\u001b[38;5;241m.\u001b[39mSCREEN_WIDTH, \u001b[38;5;28mself\u001b[39m\u001b[38;5;241m.\u001b[39mSCREEN_HEIGHT), pygame\u001b[38;5;241m.\u001b[39mSRCALPHA)\n\u001b[1;32m    514\u001b[0m alpha \u001b[38;5;241m=\u001b[39m \u001b[38;5;241m255\u001b[39m \u001b[38;5;241m*\u001b[39m (\u001b[38;5;241m0.3\u001b[39m \u001b[38;5;241m+\u001b[39m net\u001b[38;5;241m.\u001b[39mvalues[first] \u001b[38;5;241m*\u001b[39m \u001b[38;5;241m0.7\u001b[39m)\n\u001b[1;32m    515\u001b[0m pygame\u001b[38;5;241m.\u001b[39mdraw\u001b[38;5;241m.\u001b[39mline(surf, color \u001b[38;5;241m+\u001b[39m (alpha,), start, stop, width\u001b[38;5;241m=\u001b[39m\u001b[38;5;241m5\u001b[39m)\n",
      "\u001b[0;31mKeyboardInterrupt\u001b[0m: "
     ]
    }
   ],
   "source": [
    "BaselineSnake.test_winner(winners_list[-1], neat_config_path)"
   ]
  },
  {
   "cell_type": "code",
   "execution_count": null,
   "metadata": {},
   "outputs": [],
   "source": [
    "winners_list, stats_list = BaselineSnake.run_NEAT_repeated(neat_config_path)\n",
    "\n",
    "best_run_idx = np.argmax([winner.fitness for winner in winners_list])\n",
    "print(f\"Best run: {best_run_idx} with fitness: {winners_list[best_run_idx].fitness}\")"
   ]
  },
  {
   "cell_type": "code",
   "execution_count": null,
   "metadata": {},
   "outputs": [],
   "source": [
    "average_fitness_baseline = np.mean([np.array(stats.get_fitness_mean())[-1] for stats in stats_list_baseline])\n",
    "std_fitness_baseline = np.std([np.array(stats.get_fitness_mean())[-1] for stats in stats_list_baseline])\n",
    "\n",
    "# Calculate average fitness and standard deviation over all runs\n",
    "average_fitness= np.mean([np.array(stats.get_fitness_mean())[-1] for stats in stats_list])\n",
    "std_fitness = np.std([np.array(stats.get_fitness_mean())[-1] for stats in stats_list])\n",
    "\n",
    "average_fitness= 10.3\n",
    "\n",
    "# Data to plot\n",
    "fitness_means = [average_fitness_baseline, average_fitness]\n",
    "fitness_stds = [std_fitness_baseline, std_fitness]\n",
    "labels = ['NSWE', 'Snake FoR']\n",
    "\n",
    "# Creating the bar plot\n",
    "fig, ax = plt.subplots()\n",
    "ax.bar(labels, fitness_means, yerr=fitness_stds, capsize=5, color=['#c0392b', '#229954'])\n",
    "ax.set_ylabel('Average Fitness')\n",
    "ax.set_title(f'Average Fitness over {BaselineSnake.N_RUNS} Runs after {BaselineSnake.N_GENERATIONS} Generations')\n",
    "\n",
    "# Show the plot\n",
    "plt.savefig(local_dir + '/' + Paths.RESULTS_PATH + '/fitness_comparison.png')\n",
    "plt.show()"
   ]
  },
  {
   "cell_type": "code",
   "execution_count": null,
   "metadata": {},
   "outputs": [],
   "source": [
    "#Save results\n",
    "np.save(local_dir + '/' + Paths.RESULTS_PATH + '/winners_list', winners_list)\n",
    "np.save(local_dir + '/' + Paths.RESULTS_PATH + '/stats_list', stats_list)"
   ]
  },
  {
   "cell_type": "code",
   "execution_count": null,
   "metadata": {},
   "outputs": [],
   "source": [
    "# Load the data\n",
    "# winners_list = np.load(local_dir + '/experiment_1/winners_list.npy', allow_pickle=True)\n",
    "# stats_list = np.load(local_dir + '/experiment_1/stats_list.npy', allow_pickle=True)"
   ]
  },
  {
   "cell_type": "markdown",
   "metadata": {},
   "source": [
    "## Evaluate Results"
   ]
  },
  {
   "cell_type": "code",
   "execution_count": null,
   "metadata": {},
   "outputs": [],
   "source": [
    "# Calculate average fitness and standard deviation for winners\n",
    "average_fitness_winners = np.mean([winner.fitness for winner in winners_list])\n",
    "std_fitness_winners = np.std([winner.fitness for winner in winners_list])\n",
    "\n",
    "# Calculate average fitness and standard deviation over all runs\n",
    "average_fitness = np.mean([np.array(stats.get_fitness_mean())[-1] for stats in stats_list])\n",
    "std_fitness = np.std([np.array(stats.get_fitness_mean())[-1] for stats in stats_list])\n",
    "\n",
    "# Data to plot\n",
    "fitness_means = [average_fitness_winners, average_fitness]\n",
    "fitness_stds = [std_fitness_winners, std_fitness]\n",
    "labels = ['Best Genomes', 'All Genomes']\n",
    "\n",
    "# Creating the bar plot\n",
    "fig, ax = plt.subplots()\n",
    "ax.bar(labels, fitness_means, yerr=fitness_stds, capsize=5, color=['#c0392b', '#229954'])\n",
    "ax.set_ylabel('Average Fitness')\n",
    "ax.set_title(f'Average Fitness over {BaselineSnake.N_RUNS} Runs')\n",
    "\n",
    "# Show the plot\n",
    "plt.savefig(local_dir + '/' + Paths.RESULTS_PATH + '/fitness_comparison.png')\n",
    "plt.show()"
   ]
  },
  {
   "cell_type": "markdown",
   "metadata": {},
   "source": [
    "### Plot the best genome"
   ]
  },
  {
   "cell_type": "code",
   "execution_count": null,
   "metadata": {},
   "outputs": [],
   "source": [
    "#Get statistics from the best run\n",
    "winner_stats = stats_list[best_run_idx]\n",
    "generations = range(1, BaselineSnake.N_GENERATIONS + 1)\n",
    "best_fitnesses = [g.fitness for g in winner_stats.most_fit_genomes]\n",
    "avg_fitnesses = np.array(winner_stats.get_fitness_mean())\n",
    "stdev_fitnesses = np.array(winner_stats.get_fitness_stdev())\n",
    "\n",
    "\n",
    "plt.plot(generations, best_fitnesses, color = '#c0392b', label=\"Best Genome\")\n",
    "plt.plot(generations, avg_fitnesses, color = '#229954', label=\"Average\")\n",
    "plt.plot(generations, avg_fitnesses + stdev_fitnesses, color = '#abebc6', label=\"+1 $\\sigma_{std}$\")\n",
    "plt.plot(generations, avg_fitnesses - stdev_fitnesses, color = '#abebc6', label=\"-1 $\\sigma_{std}$\")\n",
    "\n",
    "\n",
    "# plt.title(f\"Best Run ({best_run_idx + 1}) Results\")\n",
    "plt.title(f\"Fitness over Generations of Best Run ({best_run_idx + 1})\") \n",
    "plt.xlabel(\"Generations\")\n",
    "plt.ylabel(\"Fitness\")\n",
    "plt.grid()\n",
    "plt.legend(loc=\"best\")\n",
    "\n",
    "\n",
    "plt.show()"
   ]
  },
  {
   "cell_type": "markdown",
   "metadata": {},
   "source": [
    "### Compare the best snake at different generations"
   ]
  },
  {
   "cell_type": "code",
   "execution_count": null,
   "metadata": {},
   "outputs": [],
   "source": [
    "generation_nr_1 = 310\n",
    "generation_nr_2 = 410\n",
    "\n",
    "# Get the best genome at every generation\n",
    "best_genomes = [g for g in winner_stats.most_fit_genomes]\n",
    "\n",
    "genome_1 = best_genomes[generation_nr_1]\n",
    "genome_2 = best_genomes[generation_nr_2]"
   ]
  },
  {
   "cell_type": "code",
   "execution_count": null,
   "metadata": {},
   "outputs": [],
   "source": [
    "best_genomes = [g for g in winner_stats.most_fit_genomes]\n",
    "\n",
    "BaselineSnake.test_winner(genome_1, config_path) "
   ]
  },
  {
   "cell_type": "code",
   "execution_count": null,
   "metadata": {},
   "outputs": [],
   "source": [
    "BaselineSnake.test_winner(genome_2, config_path) "
   ]
  },
  {
   "cell_type": "markdown",
   "metadata": {},
   "source": [
    "### Plot the best solution of each run separately"
   ]
  },
  {
   "cell_type": "code",
   "execution_count": null,
   "metadata": {},
   "outputs": [],
   "source": [
    "#Get statistics from all runs\n",
    "stats = stats_list[best_run_idx]\n",
    "generations = range(1, BaselineSnake.N_GENERATIONS + 1)\n",
    "\n",
    "# Get the best genome at every generation\n",
    "best_genomes = [[g for g in stats.most_fit_genomes] for stats in stats_list]\n",
    "\n",
    "# Plot the best genome of each run\n",
    "for i, genome in enumerate(best_genomes):\n",
    "    best_fitnesses = [g.fitness for g in genome]\n",
    "    plt.plot(generations, best_fitnesses, label=f\"Run {i + 1}\")\n",
    "\n",
    "plt.title(f\"Best Genome of each Run\")\n",
    "plt.xlabel(\"Generations\")\n",
    "plt.ylabel(\"Fitness\")\n",
    "plt.grid()\n",
    "plt.legend(loc=\"best\")\n",
    "\n",
    "plt.savefig(local_dir + '/' + Paths.RESULTS_PATH + '/best_genomes_each_run.png')\n",
    "plt.show()"
   ]
  },
  {
   "cell_type": "markdown",
   "metadata": {},
   "source": [
    "### Visualize speciation of best run"
   ]
  },
  {
   "cell_type": "code",
   "execution_count": null,
   "metadata": {},
   "outputs": [],
   "source": [
    "species_sizes = np.array(winner_stats.get_species_sizes())\n",
    "num_generations = len(species_sizes)\n",
    "curves = np.array(species_sizes).T\n",
    "\n",
    "fig, ax = plt.subplots()\n",
    "ax.stackplot(range(num_generations), *curves)\n",
    "\n",
    "plt.title(\"Speciation\")\n",
    "plt.ylabel(\"Size per Species\")\n",
    "plt.xlabel(\"Generations\")\n",
    "\n",
    "plt.show()\n"
   ]
  },
  {
   "cell_type": "code",
   "execution_count": null,
   "metadata": {},
   "outputs": [],
   "source": [
    "total_species_fitness = np.array(winner_stats.get_species_fitness())\n",
    "\n",
    "print(total_species_fitness[:, 0])\n",
    "print(species_sizes[:, 0])\n",
    "\n",
    "print(total_species_fitness)"
   ]
  },
  {
   "cell_type": "code",
   "execution_count": null,
   "metadata": {},
   "outputs": [],
   "source": [
    "species_fitness = np.array(winner_stats.get_species_fitness())\n",
    "\n",
    "num_generations = len(species_sizes)\n",
    "\n",
    "\n",
    "for i in range (len(species_fitness[0])):\n",
    "    # Extract the column corresponding to the species\n",
    "    species_data = species_fitness[:, i]\n",
    "    \n",
    "    # Filter out empty strings and convert to float\n",
    "    valid_fitness = np.array([float(x) for x in species_data if x != ''])\n",
    "    \n",
    "    # Get the valid indices to match the generations\n",
    "    valid_indices = np.where(species_data != '')[0]\n",
    "\n",
    "    \n",
    "    # Plot only the valid data points\n",
    "    plt.plot(valid_indices, valid_fitness, label=f\"Species {i}\")\n",
    "\n",
    "plt.title(\"Speciation\")\n",
    "plt.ylabel(\"Species Fitness\")\n",
    "plt.xlabel(\"Generations\")\n",
    "# plt.yscale('log')\n",
    "plt.legend()\n",
    "\n",
    "plt.show()\n"
   ]
  },
  {
   "cell_type": "markdown",
   "metadata": {},
   "source": [
    "### Plot the n best solutions over all runs [NOT IMPLEMENTED]"
   ]
  },
  {
   "cell_type": "code",
   "execution_count": null,
   "metadata": {},
   "outputs": [],
   "source": [
    "stats = stats_list[best_run_idx]\n",
    "n_best_genomes =  stats.best_unique_genomes(5)\n",
    "\n",
    "n_best_genomes_fitness = [g.fitness for g in n_best_genomes]\n",
    "n_best_genomes_id = np.argpartition(n_best_genomes_fitness, -3)[-3:]\n",
    "print(n_best_genomes_fitness)\n",
    "print(n_best_genomes_id)"
   ]
  },
  {
   "cell_type": "code",
   "execution_count": null,
   "metadata": {},
   "outputs": [],
   "source": [
    "n = 5\n",
    "\n",
    "# Get the n best genomes from all runs\n",
    "all_best_genomes = []\n",
    "for stats in stats_list:\n",
    "    all_best_genomes += stats.best_unique_genomes(n)\n",
    "\n",
    "all_best_fitness = [g.fitness for g in all_best_genomes]\n",
    "n_best_genomes_id = np.argpartition(all_best_fitness, -n)[-n:]\n",
    "\n",
    "\n",
    "plt.figure()\n",
    "generations = range(1, BaselineSnake.N_RUNS + 1)\n",
    "for id in n_best_genomes_id:\n",
    "    genome = all_best_genomes[id]\n",
    "    best_fitnesses = [g.fitness for g in genome]\n",
    "    plt.plot(generations, best_fitnesses)\n",
    "\n",
    "plt.plot(generations, best_fitnesses, 'r-', label=\"best\")\n",
    "\n",
    "plt.title(f\"Best Run ({best_run_idx + 1}) Results\")\n",
    "plt.xlabel(\"Generations\")\n",
    "plt.ylabel(\"Fitness\")\n",
    "plt.grid()\n",
    "plt.legend(loc=\"best\")\n",
    "\n",
    "plt.show()"
   ]
  },
  {
   "cell_type": "markdown",
   "metadata": {},
   "source": [
    "### Checkpoint restoration [DOES NOT WORK PROPERLY FOR NOW]\n",
    "\n",
    "If I restore a checkpoint, and then check the fitness of that population, it does not match up with the graphs above. I am not sure why. I will try to figure it out later, if we will actually need to use this."
   ]
  },
  {
   "cell_type": "code",
   "execution_count": null,
   "metadata": {},
   "outputs": [],
   "source": [
    "generation_nr_1 = 18\n",
    "population_1 = neat.Checkpointer.restore_checkpoint(f'results/checkpoints/run{best_run_idx}/population-{generation_nr_1}')\n",
    "\n",
    "genome_tuples = list(iter(population_1.population.items()))   # List of (genome_id, genome) tuples.\n",
    "\n",
    "# Assign a fitness value to each genome\n",
    "BaselineSnake.eval_genomes(genome_tuples, neat_config)\n",
    "\n",
    "# Get the best genome of the generation\n",
    "genomes = population_1.population.values() # List of the genomes after evaluation.\n",
    "best_genome = None\n",
    "for i, g in enumerate(iter(genomes)):\n",
    "    if best_genome is None or g.fitness > best_genome.fitness:\n",
    "        best_genome = g\n",
    "\n",
    "print(f\"Best genome has fitness: {best_genome.fitness}\")"
   ]
  }
 ],
 "metadata": {
  "kernelspec": {
   "display_name": "Python 3",
   "language": "python",
   "name": "python3"
  },
  "language_info": {
   "codemirror_mode": {
    "name": "ipython",
    "version": 3
   },
   "file_extension": ".py",
   "mimetype": "text/x-python",
   "name": "python",
   "nbconvert_exporter": "python",
   "pygments_lexer": "ipython3",
   "version": "3.11.9"
  }
 },
 "nbformat": 4,
 "nbformat_minor": 2
}
